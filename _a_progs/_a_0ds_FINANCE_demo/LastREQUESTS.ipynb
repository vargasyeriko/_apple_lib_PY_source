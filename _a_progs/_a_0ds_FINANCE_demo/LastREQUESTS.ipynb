{
 "cells": [
  {
   "cell_type": "code",
   "execution_count": 8,
   "id": "45072b93-1a51-49f9-bbc2-20f1e0268e49",
   "metadata": {},
   "outputs": [],
   "source": [
    "# # Type 'cd' for today's date or 'pd' for the past adjusted date or the last day of the month: pd\n",
    "# # Enter the number of months to view: \n",
    "\n",
    "# ADD function report folder to output the most wanted \n",
    "# # PIE CHART COMPILATION\n",
    "\n",
    "# # title attribution \n",
    "# # : TOP THREE PERFORMERS / BOTTOM THREE PERFORMERS "
   ]
  },
  {
   "cell_type": "code",
   "execution_count": null,
   "id": "21fafe40-fbdf-4eb0-9263-118fd716b75b",
   "metadata": {
    "scrolled": true
   },
   "outputs": [
    {
     "name": "stderr",
     "output_type": "stream",
     "text": [
      "Matplotlib is building the font cache; this may take a moment.\n"
     ]
    },
    {
     "name": "stdout",
     "output_type": "stream",
     "text": [
      "\n",
      " ATTN !! _22_ LEDGER EXPORTED _df_costs_1_2_complete_LEDGER.pkl\n",
      "\n",
      "\n",
      "BROCKAGE COSTS till 2022-07-01 are $ 606\n",
      "\n"
     ]
    },
    {
     "name": "stdin",
     "output_type": "stream",
     "text": [
      "Type 'cd' for today's date or 'pd' for the past adjusted date or the last day of the month:  \n"
     ]
    },
    {
     "name": "stdout",
     "output_type": "stream",
     "text": [
      "Invalid choice. Please type 'cd' or 'pd'.\n"
     ]
    },
    {
     "name": "stdin",
     "output_type": "stream",
     "text": [
      "Type 'cd' for today's date or 'pd' for the past adjusted date or the last day of the month:  pd\n",
      "Enter the number of months ago:  4\n"
     ]
    },
    {
     "name": "stdout",
     "output_type": "stream",
     "text": [
      "Selected cutoff date: 2024-11-30\n",
      "2024-11-30 00:00:00\n",
      "2024-11-30\n",
      "- - - - - - - - - - - - - > LEDGER PROCESSED\n",
      "2024-10-30\n",
      "- - - - - - - - - - - - - > LEDGER PROCESSED\n",
      "2024-09-30\n",
      "- - - - - - - - - - - - - > LEDGER PROCESSED\n",
      "2024-08-30\n",
      "- - - - - - - - - - - - - > LEDGER PROCESSED\n",
      "2024-07-30\n",
      "- - - - - - - - - - - - - > LEDGER PROCESSED\n",
      "2024-06-30\n",
      "- - - - - - - - - - - - - > LEDGER PROCESSED\n",
      "2024-05-30\n",
      "- - - - - - - - - - - - - > LEDGER PROCESSED\n",
      "2024-04-30\n",
      "- - - - - - - - - - - - - > LEDGER PROCESSED\n",
      "2024-03-30\n",
      "- - - - - - - - - - - - - > LEDGER PROCESSED\n",
      "2024-02-29\n",
      "- - - - - - - - - - - - - > LEDGER PROCESSED\n",
      "2024-01-30\n",
      "- - - - - - - - - - - - - > LEDGER PROCESSED\n",
      "2023-12-30\n",
      "- - - - - - - - - - - - - > LEDGER PROCESSED\n",
      "2023-11-30\n",
      "- - - - - - - - - - - - - > LEDGER PROCESSED\n",
      "2023-10-30\n",
      "- - - - - - - - - - - - - > LEDGER PROCESSED\n",
      "2023-09-30\n",
      "- - - - - - - - - - - - - > LEDGER PROCESSED\n",
      "2023-08-30\n",
      "- - - - - - - - - - - - - > LEDGER PROCESSED\n",
      "2023-07-30\n",
      "- - - - - - - - - - - - - > LEDGER PROCESSED\n",
      "2023-06-30\n",
      "- - - - - - - - - - - - - > LEDGER PROCESSED\n",
      "2023-05-30\n",
      "- - - - - - - - - - - - - > LEDGER PROCESSED\n",
      "2023-04-30\n",
      "- - - - - - - - - - - - - > LEDGER PROCESSED\n",
      "2023-03-30\n",
      "- - - - - - - - - - - - - > LEDGER PROCESSED\n",
      "2023-02-28\n",
      "- - - - - - - - - - - - - > LEDGER PROCESSED\n",
      "2023-01-30\n",
      "- - - - - - - - - - - - - > LEDGER PROCESSED\n",
      "2022-12-30\n",
      "- - - - - - - - - - - - - > LEDGER PROCESSED\n",
      "2022-11-30\n",
      "- - - - - - - - - - - - - > LEDGER PROCESSED\n",
      "2022-10-30\n",
      "- - - - - - - - - - - - - > LEDGER PROCESSED\n",
      "2022-09-30\n",
      "- - - - - - - - - - - - - > LEDGER PROCESSED\n",
      "2022-08-30\n",
      "- - - - - - - - - - - - - > LEDGER PROCESSED\n",
      "2022-07-30\n",
      "- - - - - - - - - - - - - > LEDGER PROCESSED\n",
      "Price data not found for 360.AX on 2024-11-30 and three days prior.\n"
     ]
    },
    {
     "name": "stdin",
     "output_type": "stream",
     "text": [
      "Please enter the closing price for 360.AX on 2024-11-30:  7.8\n"
     ]
    },
    {
     "name": "stdout",
     "output_type": "stream",
     "text": [
      "Price data not found for ACDC.AX on 2024-11-30 and three days prior.\n"
     ]
    },
    {
     "name": "stdin",
     "output_type": "stream",
     "text": [
      "Please enter the closing price for ACDC.AX on 2024-11-30:  7.9\n"
     ]
    },
    {
     "name": "stdout",
     "output_type": "stream",
     "text": [
      "Price data not found for ALD.AX on 2024-11-30 and three days prior.\n"
     ]
    },
    {
     "name": "stdin",
     "output_type": "stream",
     "text": [
      "Please enter the closing price for ALD.AX on 2024-11-30:  45.5\n"
     ]
    },
    {
     "name": "stdout",
     "output_type": "stream",
     "text": [
      "Price data not found for AMC.AX on 2024-11-30 and three days prior.\n"
     ]
    },
    {
     "name": "stdin",
     "output_type": "stream",
     "text": [
      "Please enter the closing price for AMC.AX on 2024-11-30:  45.5\n"
     ]
    },
    {
     "name": "stdout",
     "output_type": "stream",
     "text": [
      "Price data not found for ANN.AX on 2024-11-30 and three days prior.\n"
     ]
    },
    {
     "name": "stdin",
     "output_type": "stream",
     "text": [
      "Please enter the closing price for ANN.AX on 2024-11-30:  45.5\n"
     ]
    },
    {
     "name": "stdout",
     "output_type": "stream",
     "text": [
      "Price data not found for ANZ.AX on 2024-11-30 and three days prior.\n"
     ]
    },
    {
     "name": "stdin",
     "output_type": "stream",
     "text": [
      "Please enter the closing price for ANZ.AX on 2024-11-30:  45.5\n"
     ]
    },
    {
     "name": "stdout",
     "output_type": "stream",
     "text": [
      "Price data not found for APA.AX on 2024-11-30 and three days prior.\n"
     ]
    },
    {
     "name": "stdin",
     "output_type": "stream",
     "text": [
      "Please enter the closing price for APA.AX on 2024-11-30:  45.\n"
     ]
    },
    {
     "name": "stdout",
     "output_type": "stream",
     "text": [
      "Price data not found for BHP.AX on 2024-11-30 and three days prior.\n"
     ]
    },
    {
     "name": "stdin",
     "output_type": "stream",
     "text": [
      "Please enter the closing price for BHP.AX on 2024-11-30:  4.5\n"
     ]
    },
    {
     "name": "stdout",
     "output_type": "stream",
     "text": [
      "Price data not found for BUGG.AX on 2024-11-30 and three days prior.\n"
     ]
    },
    {
     "name": "stdin",
     "output_type": "stream",
     "text": [
      "Please enter the closing price for BUGG.AX on 2024-11-30:  45.\n"
     ]
    },
    {
     "name": "stdout",
     "output_type": "stream",
     "text": [
      "Price data not found for BXB.AX on 2024-11-30 and three days prior.\n"
     ]
    }
   ],
   "source": [
    "%run _report.py"
   ]
  },
  {
   "cell_type": "code",
   "execution_count": 3,
   "id": "4dc303d3-9a5f-4867-830f-8ed4a4704997",
   "metadata": {},
   "outputs": [
    {
     "ename": "NameError",
     "evalue": "name 'df_report' is not defined",
     "output_type": "error",
     "traceback": [
      "\u001b[31m---------------------------------------------------------------------------\u001b[39m",
      "\u001b[31mNameError\u001b[39m                                 Traceback (most recent call last)",
      "\u001b[36mCell\u001b[39m\u001b[36m \u001b[39m\u001b[32mIn[3]\u001b[39m\u001b[32m, line 1\u001b[39m\n\u001b[32m----> \u001b[39m\u001b[32m1\u001b[39m \u001b[43mdf_report\u001b[49m\n",
      "\u001b[31mNameError\u001b[39m: name 'df_report' is not defined"
     ]
    }
   ],
   "source": [
    "df_report"
   ]
  },
  {
   "cell_type": "code",
   "execution_count": 4,
   "id": "a4c2c522-a975-4496-ba17-e43b8485ab5b",
   "metadata": {},
   "outputs": [
    {
     "ename": "ModuleNotFoundError",
     "evalue": "No module named 'pandas'",
     "output_type": "error",
     "traceback": [
      "\u001b[31m---------------------------------------------------------------------------\u001b[39m",
      "\u001b[31mModuleNotFoundError\u001b[39m                       Traceback (most recent call last)",
      "\u001b[36mCell\u001b[39m\u001b[36m \u001b[39m\u001b[32mIn[4]\u001b[39m\u001b[32m, line 1\u001b[39m\n\u001b[32m----> \u001b[39m\u001b[32m1\u001b[39m \u001b[38;5;28;01mimport\u001b[39;00m\u001b[38;5;250m \u001b[39m\u001b[34;01mpandas\u001b[39;00m\u001b[38;5;250m \u001b[39m\u001b[38;5;28;01mas\u001b[39;00m\u001b[38;5;250m \u001b[39m\u001b[34;01mpd\u001b[39;00m\n\u001b[32m      3\u001b[39m \u001b[38;5;66;03m# Assuming df_report is already loaded and includes the necessary columns\u001b[39;00m\n\u001b[32m      4\u001b[39m \n\u001b[32m      5\u001b[39m \u001b[38;5;66;03m# Filter the DataFrame for period 0 and 1\u001b[39;00m\n\u001b[32m      6\u001b[39m df_filtered = df_report[df_report[\u001b[33m'\u001b[39m\u001b[33mperiod\u001b[39m\u001b[33m'\u001b[39m].isin([\u001b[32m0\u001b[39m, \u001b[32m1\u001b[39m])]\n",
      "\u001b[31mModuleNotFoundError\u001b[39m: No module named 'pandas'"
     ]
    }
   ],
   "source": [
    "import pandas as pd\n",
    "\n",
    "# Assuming df_report is already loaded and includes the necessary columns\n",
    "\n",
    "# Filter the DataFrame for period 0 and 1\n",
    "df_filtered = df_report[df_report['period'].isin([0, 1])]\n",
    "\n",
    "# Pivot the DataFrame to have stocks as rows and periods as columns for easier comparison\n",
    "df_pivot = df_filtered.pivot(index='Stock', columns='period', values='stock_value_hold')\n",
    "\n",
    "# Calculate the difference in holding value from period 1 to period 0\n",
    "df_pivot['difference'] = df_pivot[0] - df_pivot[1]\n",
    "\n",
    "# Sort by the 'difference' column to get top and bottom performers\n",
    "top_performers = df_pivot.sort_values(by='difference', ascending=False).head(3)\n",
    "bottom_performers = df_pivot.sort_values(by='difference').head(3)\n",
    "\n",
    "# Plotting\n",
    "import matplotlib.pyplot as plt\n",
    "\n",
    "# Combine top and bottom performers for plotting\n",
    "frames_to_plot = [top_performers, bottom_performers]\n",
    "result = pd.concat(frames_to_plot)\n",
    "\n",
    "# Create a bar graph\n",
    "result['difference'].plot(kind='bar', color=['green' if x in top_performers.index else 'red' for x in result.index])\n",
    "plt.title('Top and Bottom 3 Stock Performers')\n",
    "plt.xlabel('Stock')\n",
    "plt.ylabel('Difference in Holding Value')\n",
    "plt.show()\n",
    "plt.savefig('_attributions.png')\n"
   ]
  },
  {
   "cell_type": "code",
   "execution_count": 10,
   "id": "e986cdc4-cf78-4721-99f6-94b6fce2fa3d",
   "metadata": {},
   "outputs": [],
   "source": [
    "import pandas as pd\n",
    "import matplotlib.pyplot as plt\n",
    "from datetime import datetime\n",
    "\n",
    "# Assuming df_report is already loaded and includes the necessary columns\n",
    "\n",
    "# Filter the DataFrame for period 0 and 1\n",
    "df_filtered = df_report[df_report['period'].isin([0, 1])]\n",
    "\n",
    "# Pivot the DataFrame to have stocks as rows and periods as columns for easier comparison\n",
    "df_pivot = df_filtered.pivot(index='Stock', columns='period', values='stock_value_hold')\n",
    "\n",
    "# Calculate the difference in holding value from period 1 to period 0\n",
    "df_pivot['difference'] = df_pivot[0] - df_pivot[1]\n",
    "\n",
    "# Sort by the 'difference' column to get top and bottom performers\n",
    "top_performers = df_pivot.sort_values(by='difference', ascending=False).head(3)\n",
    "bottom_performers = df_pivot.sort_values(by='difference').head(3)\n",
    "\n",
    "# Combine top and bottom performers for plotting\n",
    "frames_to_plot = [top_performers, bottom_performers]\n",
    "result = pd.concat(frames_to_plot)\n",
    "\n",
    "# Create a bar graph\n",
    "fig, ax = plt.subplots()\n",
    "result['difference'].plot(kind='bar', color=['green' if x in top_performers.index else 'red' for x in result.index], ax=ax)\n",
    "ax.set_title('Top and Bottom 3 Stock Performers')\n",
    "ax.set_xlabel('Stock')\n",
    "ax.set_ylabel('Difference in Holding Value')\n",
    "\n",
    "# Format current date for the filename\n",
    "today = datetime.now()\n",
    "date_string = today.strftime(\"%d_%m_%Y\")\n",
    "\n",
    "# Save the plot as a PNG file\n",
    "fig.savefig(f'_attributions.png')\n",
    "plt.close(fig)  # Close the plot figure to free up memory\n"
   ]
  },
  {
   "cell_type": "markdown",
   "id": "fa647a4c-020b-4016-9ae9-ca9e858d8e2a",
   "metadata": {},
   "source": [
    "# PDF"
   ]
  },
  {
   "cell_type": "code",
   "execution_count": 2,
   "id": "2d1f79e3-22c2-45e3-9edd-f363e6d32a07",
   "metadata": {},
   "outputs": [],
   "source": [
    "from reportlab.lib.pagesizes import letter\n",
    "from reportlab.pdfgen import canvas\n",
    "from reportlab.lib.units import inch\n",
    "from datetime import datetime\n",
    "from reportlab.lib import colors\n",
    "import textwrap\n",
    "\n",
    "def add_footer(canvas, page_number):\n",
    "    canvas.saveState()\n",
    "    canvas.setFont('Times-Italic', 10)\n",
    "    # Footer with address\n",
    "    footer_text = f\"Page {page_number} | Your Company Address | Contact Info\"\n",
    "    canvas.drawCentredString(4.25*inch, 0.25*inch, footer_text)\n",
    "    canvas.restoreState()\n",
    "\n",
    "def add_logo_and_title(canvas, width, height, logo_path):\n",
    "    # Add logo\n",
    "    canvas.drawImage(logo_path, 0.5 * inch, height - 1.5 * inch, 1 * inch, 1 * inch, preserveAspectRatio=True)\n",
    "    # Title and date\n",
    "    canvas.setFont('Times-Bold', 24)\n",
    "    canvas.drawCentredString(width / 2.0, height - 108, \"Financial Report\")\n",
    "    canvas.setFont('Times-Roman', 12)\n",
    "    report_date = datetime.now().strftime(\"%d %B, %Y\")\n",
    "    canvas.drawCentredString(width / 2.0, height - 128, f\"Report Date: {report_date}\")\n",
    "\n",
    "def add_image_and_text(c, width, height, image_path, section_b_text, page_number):\n",
    "    # Image resized to your specific dimensions and adjusted to the left\n",
    "    c.drawImage(image_path, 0.5 * inch, 1.9 * inch, width / 1.6, height - 1 * inch, preserveAspectRatio=True)\n",
    "    c.setFont('Times-Roman', 12)\n",
    "\n",
    "    # Independent positioning for text sections\n",
    "    section_a_text = \"Section A: More details.\"\n",
    "    section_a_x = width / 2.0 + 0.75 * inch\n",
    "    section_a_y = height - 1.2 * height / 3.0\n",
    "    c.drawString(section_a_x, section_a_y, section_a_text)\n",
    "\n",
    "    section_b_x = 0.5 * inch  # Adjusted to start closer to the left margin\n",
    "    section_b_y = height - 2 * height / 3.0\n",
    "    text_object = c.beginText(section_b_x, section_b_y)\n",
    "    text_object.setFont(\"Times-Roman\", 12)\n",
    "    wrapped_text = textwrap.wrap(section_b_text, width=80)  # Adjust 'width' to control wrap\n",
    "    for line in wrapped_text:\n",
    "        text_object.textLine(line)\n",
    "    c.drawText(text_object)\n",
    "\n",
    "    add_footer(c, page_number)\n",
    "\n",
    "def create_pdf(path, logo_path):\n",
    "    c = canvas.Canvas(path, pagesize=letter)\n",
    "    width, height = letter  # width = 612, height = 792\n",
    "\n",
    "    # Title page with logo and title\n",
    "    add_logo_and_title(c, width, height, logo_path)\n",
    "    c.showPage()\n",
    "\n",
    "    # Introduction page\n",
    "    c.setFont('Times-Roman', 14)\n",
    "    c.drawString(0.5 * inch, height - 2 * inch, \"Introduction:\")\n",
    "    intro_text = \"This financial report provides a comprehensive overview of financial performance, market trends, and strategic insights.\"\n",
    "    c.setFont('Times-Roman', 12)\n",
    "    c.drawString(0.5 * inch, height - 2.5 * inch, intro_text)\n",
    "    add_footer(c, 1)\n",
    "    c.showPage()\n",
    "\n",
    "    # Page with first graph and report_p1 content\n",
    "    report_p1 = \"Placeholder for the dynamic content or report summary. This text is based on your variable `report_p1`.\"\n",
    "    add_image_and_text(c, width, height, \"_PY_ultimate_Final_Returns_Graph.png\", report_p1, 2)\n",
    "\n",
    "    # Page with second graph (attributions)\n",
    "    section_b_text_attribution = \"Attribution for various data sources and contributions. Please provide specific details here.\"\n",
    "    add_image_and_text(c, width, height, \"_attributions.png\", section_b_text_attribution, 3)\n",
    "\n",
    "    c.save()\n",
    "\n",
    "# Specify the path to your logo here\n",
    "logo_path = \"logo_1.jpeg\"\n",
    "create_pdf(\"enhanced_financial_report.pdf\", logo_path)\n"
   ]
  },
  {
   "cell_type": "code",
   "execution_count": null,
   "id": "1509990f-e9ee-4140-ae25-6dfa6b6d04da",
   "metadata": {},
   "outputs": [],
   "source": []
  }
 ],
 "metadata": {
  "kernelspec": {
   "display_name": "Python 3 (ipykernel)",
   "language": "python",
   "name": "python3"
  },
  "language_info": {
   "codemirror_mode": {
    "name": "ipython",
    "version": 3
   },
   "file_extension": ".py",
   "mimetype": "text/x-python",
   "name": "python",
   "nbconvert_exporter": "python",
   "pygments_lexer": "ipython3",
   "version": "3.12.9"
  }
 },
 "nbformat": 4,
 "nbformat_minor": 5
}
