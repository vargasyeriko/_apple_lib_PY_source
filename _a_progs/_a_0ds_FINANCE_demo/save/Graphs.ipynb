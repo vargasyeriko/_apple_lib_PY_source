{
 "cells": [
  {
   "cell_type": "markdown",
   "id": "d6bac0ee-8418-4364-ad58-43198022628f",
   "metadata": {},
   "source": [
    "# 0 - OPTION _1"
   ]
  },
  {
   "cell_type": "code",
   "execution_count": 1,
   "id": "003e0a83-d0e7-4a08-ab41-7f51152035b0",
   "metadata": {},
   "outputs": [
    {
     "name": "stdout",
     "output_type": "stream",
     "text": [
      "DONE\n"
     ]
    }
   ],
   "source": [
    "from reportlab.lib.pagesizes import letter\n",
    "from reportlab.pdfgen import canvas\n",
    "from reportlab.lib.units import inch\n",
    "from datetime import datetime\n",
    "\n",
    "def add_footer(canvas, page_number):\n",
    "    canvas.saveState()\n",
    "    canvas.setFont('Times-Italic', 10)\n",
    "    footer_text = f\"Page {page_number}\"\n",
    "    canvas.drawCentredString(4.25*inch, 0.5*inch, footer_text)\n",
    "    canvas.restoreState()\n",
    "\n",
    "def create_pdf(path):\n",
    "    c = canvas.Canvas(path, pagesize=letter)\n",
    "    width, height = letter  # width = 612, height = 792\n",
    "\n",
    "    # Title page\n",
    "    c.setFont('Times-Bold', 24)\n",
    "    c.drawCentredString(width / 2.0, height - 108, \"Financial Report\")\n",
    "    c.setFont('Times-Roman', 12)\n",
    "    report_date = datetime.now().strftime(\"%d %B, %Y\")\n",
    "    c.drawCentredString(width / 2.0, height - 128, f\"Report Date: {report_date}\")\n",
    "    c.showPage()\n",
    "\n",
    "    # Second page with quadrants\n",
    "    c.setFont('Times-Roman', 12)\n",
    "    quadrant_texts = [\"Top Left: Summary\", \"Top Right: Overview\", \"Bottom Left: Details\", \"Bottom Right: Analysis\"]\n",
    "    x_positions = [width / 4.0, 3 * width / 4.0]\n",
    "    y_positions = [3 * height / 4.0, height / 4.0]\n",
    "    for i, text in enumerate(quadrant_texts):\n",
    "        x = x_positions[i % 2]\n",
    "        y = y_positions[i // 2]\n",
    "        c.drawCentredString(x, y, text)\n",
    "    add_footer(c, 2)\n",
    "    c.showPage()\n",
    "\n",
    "    # Third page with image and text sections\n",
    "    image_path = \"_PY_ultimate_Final_Returns_Graph.png\"\n",
    "    c.drawImage(image_path, width / 2.0 + 0.1 * inch, 0.5 * inch, width / 2.0 - 0.2 * inch, height - 1 * inch, preserveAspectRatio=True)\n",
    "    c.setFont('Times-Roman', 12)\n",
    "    text_sections = [\"Section A\", \"Section B\", \"Section C\"]\n",
    "    for i in range(3):\n",
    "        c.drawString(0.5 * inch, (2 - i) * height / 4.0 + height / 8.0, f\"{text_sections[i]}: Detailed text here.\")\n",
    "    add_footer(c, 3)\n",
    "    \n",
    "    c.showPage()\n",
    "\n",
    "    c.save()\n",
    "\n",
    "create_pdf(\"financial_report.pdf\")\n",
    "print('DONE')"
   ]
  },
  {
   "cell_type": "markdown",
   "id": "5166080c-a376-4bb3-be7f-3a910bf4b71e",
   "metadata": {},
   "source": [
    "# 2"
   ]
  },
  {
   "cell_type": "code",
   "execution_count": 3,
   "id": "ac889b11-406f-4651-bc85-50ce29a4d7c5",
   "metadata": {},
   "outputs": [
    {
     "ename": "OSError",
     "evalue": "Cannot open resource \"_PY_ultimate_Final_Returns_Graph_2.png\"",
     "output_type": "error",
     "traceback": [
      "\u001b[0;31m---------------------------------------------------------------------------\u001b[0m",
      "\u001b[0;31mFileNotFoundError\u001b[0m                         Traceback (most recent call last)",
      "File \u001b[0;32m~/_envs/SRC_envs/src_env0/lib/python3.8/site-packages/reportlab/lib/utils.py:523\u001b[0m, in \u001b[0;36mopen_for_read.<locals>.open_for_read\u001b[0;34m(name, mode)\u001b[0m\n\u001b[1;32m    522\u001b[0m \u001b[38;5;28;01mtry\u001b[39;00m:\n\u001b[0;32m--> 523\u001b[0m     \u001b[38;5;28;01mreturn\u001b[39;00m \u001b[43mopen_for_read_by_name\u001b[49m\u001b[43m(\u001b[49m\u001b[43mname\u001b[49m\u001b[43m,\u001b[49m\u001b[43mmode\u001b[49m\u001b[43m)\u001b[49m\n\u001b[1;32m    524\u001b[0m \u001b[38;5;28;01mexcept\u001b[39;00m:\n",
      "File \u001b[0;32m~/_envs/SRC_envs/src_env0/lib/python3.8/site-packages/reportlab/lib/utils.py:463\u001b[0m, in \u001b[0;36mopen_for_read_by_name\u001b[0;34m(name, mode)\u001b[0m\n\u001b[1;32m    462\u001b[0m \u001b[38;5;28;01mtry\u001b[39;00m:\n\u001b[0;32m--> 463\u001b[0m     \u001b[38;5;28;01mreturn\u001b[39;00m \u001b[38;5;28;43mopen\u001b[39;49m\u001b[43m(\u001b[49m\u001b[43mname\u001b[49m\u001b[43m,\u001b[49m\u001b[43mmode\u001b[49m\u001b[43m)\u001b[49m\n\u001b[1;32m    464\u001b[0m \u001b[38;5;28;01mexcept\u001b[39;00m \u001b[38;5;167;01mIOError\u001b[39;00m:\n",
      "\u001b[0;31mFileNotFoundError\u001b[0m: [Errno 2] No such file or directory: '_PY_ultimate_Final_Returns_Graph_2.png'",
      "\nDuring handling of the above exception, another exception occurred:\n",
      "\u001b[0;31mValueError\u001b[0m                                Traceback (most recent call last)",
      "File \u001b[0;32m~/_envs/SRC_envs/src_env0/lib/python3.8/site-packages/reportlab/lib/utils.py:530\u001b[0m, in \u001b[0;36mopen_for_read.<locals>.open_for_read\u001b[0;34m(name, mode)\u001b[0m\n\u001b[1;32m    529\u001b[0m             \u001b[38;5;28;01mraise\u001b[39;00m \u001b[38;5;167;01mValueError\u001b[39;00m(\u001b[38;5;124m'\u001b[39m\u001b[38;5;124mAttempted untrusted host access\u001b[39m\u001b[38;5;124m'\u001b[39m)\n\u001b[0;32m--> 530\u001b[0m     \u001b[38;5;28;01mreturn\u001b[39;00m BytesIO(\u001b[43m(\u001b[49m\u001b[43mdatareader\u001b[49m\u001b[43m \u001b[49m\u001b[38;5;28;43;01mif\u001b[39;49;00m\u001b[43m \u001b[49m\u001b[43mname\u001b[49m\u001b[43m[\u001b[49m\u001b[43m:\u001b[49m\u001b[38;5;241;43m5\u001b[39;49m\u001b[43m]\u001b[49m\u001b[38;5;241;43m.\u001b[39;49m\u001b[43mlower\u001b[49m\u001b[43m(\u001b[49m\u001b[43m)\u001b[49m\u001b[38;5;241;43m==\u001b[39;49m\u001b[38;5;124;43m'\u001b[39;49m\u001b[38;5;124;43mdata:\u001b[39;49m\u001b[38;5;124;43m'\u001b[39;49m\u001b[43m \u001b[49m\u001b[38;5;28;43;01melse\u001b[39;49;00m\u001b[43m \u001b[49m\u001b[43mrlUrlRead\u001b[49m\u001b[43m)\u001b[49m\u001b[43m(\u001b[49m\u001b[43mname\u001b[49m\u001b[43m)\u001b[49m)\n\u001b[1;32m    531\u001b[0m \u001b[38;5;28;01mexcept\u001b[39;00m:\n",
      "File \u001b[0;32m~/_envs/SRC_envs/src_env0/lib/python3.8/site-packages/reportlab/lib/utils.py:476\u001b[0m, in \u001b[0;36mrlUrlRead\u001b[0;34m(name)\u001b[0m\n\u001b[1;32m    475\u001b[0m \u001b[38;5;28;01mdef\u001b[39;00m \u001b[38;5;21mrlUrlRead\u001b[39m(name):\n\u001b[0;32m--> 476\u001b[0m     \u001b[38;5;28;01mreturn\u001b[39;00m \u001b[43murlopen\u001b[49m\u001b[43m(\u001b[49m\u001b[43mname\u001b[49m\u001b[43m)\u001b[49m\u001b[38;5;241m.\u001b[39mread()\n",
      "File \u001b[0;32m~/_envs/SRC_envs/src_env0/lib/python3.8/urllib/request.py:222\u001b[0m, in \u001b[0;36murlopen\u001b[0;34m(url, data, timeout, cafile, capath, cadefault, context)\u001b[0m\n\u001b[1;32m    221\u001b[0m     opener \u001b[38;5;241m=\u001b[39m _opener\n\u001b[0;32m--> 222\u001b[0m \u001b[38;5;28;01mreturn\u001b[39;00m \u001b[43mopener\u001b[49m\u001b[38;5;241;43m.\u001b[39;49m\u001b[43mopen\u001b[49m\u001b[43m(\u001b[49m\u001b[43murl\u001b[49m\u001b[43m,\u001b[49m\u001b[43m \u001b[49m\u001b[43mdata\u001b[49m\u001b[43m,\u001b[49m\u001b[43m \u001b[49m\u001b[43mtimeout\u001b[49m\u001b[43m)\u001b[49m\n",
      "File \u001b[0;32m~/_envs/SRC_envs/src_env0/lib/python3.8/urllib/request.py:509\u001b[0m, in \u001b[0;36mOpenerDirector.open\u001b[0;34m(self, fullurl, data, timeout)\u001b[0m\n\u001b[1;32m    508\u001b[0m \u001b[38;5;28;01mif\u001b[39;00m \u001b[38;5;28misinstance\u001b[39m(fullurl, \u001b[38;5;28mstr\u001b[39m):\n\u001b[0;32m--> 509\u001b[0m     req \u001b[38;5;241m=\u001b[39m \u001b[43mRequest\u001b[49m\u001b[43m(\u001b[49m\u001b[43mfullurl\u001b[49m\u001b[43m,\u001b[49m\u001b[43m \u001b[49m\u001b[43mdata\u001b[49m\u001b[43m)\u001b[49m\n\u001b[1;32m    510\u001b[0m \u001b[38;5;28;01melse\u001b[39;00m:\n",
      "File \u001b[0;32m~/_envs/SRC_envs/src_env0/lib/python3.8/urllib/request.py:328\u001b[0m, in \u001b[0;36mRequest.__init__\u001b[0;34m(self, url, data, headers, origin_req_host, unverifiable, method)\u001b[0m\n\u001b[1;32m    325\u001b[0m \u001b[38;5;28;01mdef\u001b[39;00m \u001b[38;5;21m__init__\u001b[39m(\u001b[38;5;28mself\u001b[39m, url, data\u001b[38;5;241m=\u001b[39m\u001b[38;5;28;01mNone\u001b[39;00m, headers\u001b[38;5;241m=\u001b[39m{},\n\u001b[1;32m    326\u001b[0m              origin_req_host\u001b[38;5;241m=\u001b[39m\u001b[38;5;28;01mNone\u001b[39;00m, unverifiable\u001b[38;5;241m=\u001b[39m\u001b[38;5;28;01mFalse\u001b[39;00m,\n\u001b[1;32m    327\u001b[0m              method\u001b[38;5;241m=\u001b[39m\u001b[38;5;28;01mNone\u001b[39;00m):\n\u001b[0;32m--> 328\u001b[0m     \u001b[38;5;28;43mself\u001b[39;49m\u001b[38;5;241;43m.\u001b[39;49m\u001b[43mfull_url\u001b[49m \u001b[38;5;241m=\u001b[39m url\n\u001b[1;32m    329\u001b[0m     \u001b[38;5;28mself\u001b[39m\u001b[38;5;241m.\u001b[39mheaders \u001b[38;5;241m=\u001b[39m {}\n",
      "File \u001b[0;32m~/_envs/SRC_envs/src_env0/lib/python3.8/urllib/request.py:354\u001b[0m, in \u001b[0;36mRequest.full_url\u001b[0;34m(self, url)\u001b[0m\n\u001b[1;32m    353\u001b[0m \u001b[38;5;28mself\u001b[39m\u001b[38;5;241m.\u001b[39m_full_url, \u001b[38;5;28mself\u001b[39m\u001b[38;5;241m.\u001b[39mfragment \u001b[38;5;241m=\u001b[39m _splittag(\u001b[38;5;28mself\u001b[39m\u001b[38;5;241m.\u001b[39m_full_url)\n\u001b[0;32m--> 354\u001b[0m \u001b[38;5;28;43mself\u001b[39;49m\u001b[38;5;241;43m.\u001b[39;49m\u001b[43m_parse\u001b[49m\u001b[43m(\u001b[49m\u001b[43m)\u001b[49m\n",
      "File \u001b[0;32m~/_envs/SRC_envs/src_env0/lib/python3.8/urllib/request.py:383\u001b[0m, in \u001b[0;36mRequest._parse\u001b[0;34m(self)\u001b[0m\n\u001b[1;32m    382\u001b[0m \u001b[38;5;28;01mif\u001b[39;00m \u001b[38;5;28mself\u001b[39m\u001b[38;5;241m.\u001b[39mtype \u001b[38;5;129;01mis\u001b[39;00m \u001b[38;5;28;01mNone\u001b[39;00m:\n\u001b[0;32m--> 383\u001b[0m     \u001b[38;5;28;01mraise\u001b[39;00m \u001b[38;5;167;01mValueError\u001b[39;00m(\u001b[38;5;124m\"\u001b[39m\u001b[38;5;124munknown url type: \u001b[39m\u001b[38;5;132;01m%r\u001b[39;00m\u001b[38;5;124m\"\u001b[39m \u001b[38;5;241m%\u001b[39m \u001b[38;5;28mself\u001b[39m\u001b[38;5;241m.\u001b[39mfull_url)\n\u001b[1;32m    384\u001b[0m \u001b[38;5;28mself\u001b[39m\u001b[38;5;241m.\u001b[39mhost, \u001b[38;5;28mself\u001b[39m\u001b[38;5;241m.\u001b[39mselector \u001b[38;5;241m=\u001b[39m _splithost(rest)\n",
      "\u001b[0;31mValueError\u001b[0m: unknown url type: '_PY_ultimate_Final_Returns_Graph_2.png'",
      "\nDuring handling of the above exception, another exception occurred:\n",
      "\u001b[0;31mOSError\u001b[0m                                   Traceback (most recent call last)",
      "Cell \u001b[0;32mIn[3], line 59\u001b[0m\n\u001b[1;32m     57\u001b[0m \u001b[38;5;66;03m# Specify the path to your logo here\u001b[39;00m\n\u001b[1;32m     58\u001b[0m logo_path \u001b[38;5;241m=\u001b[39m \u001b[38;5;124m\"\u001b[39m\u001b[38;5;124mlogo_1.png\u001b[39m\u001b[38;5;124m\"\u001b[39m\n\u001b[0;32m---> 59\u001b[0m \u001b[43mcreate_pdf\u001b[49m\u001b[43m(\u001b[49m\u001b[38;5;124;43m\"\u001b[39;49m\u001b[38;5;124;43menhanced_financial_report.pdf\u001b[39;49m\u001b[38;5;124;43m\"\u001b[39;49m\u001b[43m,\u001b[49m\u001b[43m \u001b[49m\u001b[43mlogo_path\u001b[49m\u001b[43m)\u001b[49m\n",
      "Cell \u001b[0;32mIn[3], line 46\u001b[0m, in \u001b[0;36mcreate_pdf\u001b[0;34m(path, logo_path)\u001b[0m\n\u001b[1;32m     44\u001b[0m image_path \u001b[38;5;241m=\u001b[39m \u001b[38;5;124m\"\u001b[39m\u001b[38;5;124m_PY_ultimate_Final_Returns_Graph_2.png\u001b[39m\u001b[38;5;124m\"\u001b[39m\n\u001b[1;32m     45\u001b[0m \u001b[38;5;66;03m# Enlarge the image a bit more and adjust to the left\u001b[39;00m\n\u001b[0;32m---> 46\u001b[0m \u001b[43mc\u001b[49m\u001b[38;5;241;43m.\u001b[39;49m\u001b[43mdrawImage\u001b[49m\u001b[43m(\u001b[49m\u001b[43mimage_path\u001b[49m\u001b[43m,\u001b[49m\u001b[43m \u001b[49m\u001b[38;5;241;43m0.9\u001b[39;49m\u001b[43m \u001b[49m\u001b[38;5;241;43m*\u001b[39;49m\u001b[43m \u001b[49m\u001b[43minch\u001b[49m\u001b[43m,\u001b[49m\u001b[43m \u001b[49m\u001b[38;5;241;43m0.9\u001b[39;49m\u001b[43m \u001b[49m\u001b[38;5;241;43m*\u001b[39;49m\u001b[43m \u001b[49m\u001b[43minch\u001b[49m\u001b[43m,\u001b[49m\u001b[43m \u001b[49m\u001b[43mwidth\u001b[49m\u001b[43m \u001b[49m\u001b[38;5;241;43m/\u001b[39;49m\u001b[43m \u001b[49m\u001b[38;5;241;43m1.2\u001b[39;49m\u001b[43m,\u001b[49m\u001b[43m \u001b[49m\u001b[43mheight\u001b[49m\u001b[43m \u001b[49m\u001b[38;5;241;43m-\u001b[39;49m\u001b[43m \u001b[49m\u001b[43m(\u001b[49m\u001b[38;5;241;43m-\u001b[39;49m\u001b[38;5;241;43m2\u001b[39;49m\u001b[43m)\u001b[49m\u001b[43m \u001b[49m\u001b[38;5;241;43m*\u001b[39;49m\u001b[43m \u001b[49m\u001b[43minch\u001b[49m\u001b[43m,\u001b[49m\u001b[43m \u001b[49m\u001b[43mpreserveAspectRatio\u001b[49m\u001b[38;5;241;43m=\u001b[39;49m\u001b[38;5;28;43;01mTrue\u001b[39;49;00m\u001b[43m)\u001b[49m\n\u001b[1;32m     47\u001b[0m c\u001b[38;5;241m.\u001b[39msetFont(\u001b[38;5;124m'\u001b[39m\u001b[38;5;124mTimes-Roman\u001b[39m\u001b[38;5;124m'\u001b[39m, \u001b[38;5;241m12\u001b[39m)\n\u001b[1;32m     48\u001b[0m text_sections \u001b[38;5;241m=\u001b[39m [\u001b[38;5;124m\"\u001b[39m\u001b[38;5;124mSection A: More details.\u001b[39m\u001b[38;5;124m\"\u001b[39m, \u001b[38;5;124m\"\u001b[39m\u001b[38;5;124mSection B: Further analysis.\u001b[39m\u001b[38;5;124m\"\u001b[39m]\n",
      "File \u001b[0;32m~/_envs/SRC_envs/src_env0/lib/python3.8/site-packages/reportlab/pdfgen/canvas.py:1002\u001b[0m, in \u001b[0;36mCanvas.drawImage\u001b[0;34m(self, image, x, y, width, height, mask, preserveAspectRatio, anchor, anchorAtXY, showBoundary, extraReturn)\u001b[0m\n\u001b[1;32m    999\u001b[0m imgObj \u001b[38;5;241m=\u001b[39m \u001b[38;5;28mself\u001b[39m\u001b[38;5;241m.\u001b[39m_doc\u001b[38;5;241m.\u001b[39midToObject\u001b[38;5;241m.\u001b[39mget(regName, \u001b[38;5;28;01mNone\u001b[39;00m)\n\u001b[1;32m   1000\u001b[0m \u001b[38;5;28;01mif\u001b[39;00m \u001b[38;5;129;01mnot\u001b[39;00m imgObj:\n\u001b[1;32m   1001\u001b[0m     \u001b[38;5;66;03m#first time seen, create and register the PDFImageXobject\u001b[39;00m\n\u001b[0;32m-> 1002\u001b[0m     imgObj \u001b[38;5;241m=\u001b[39m \u001b[43mpdfdoc\u001b[49m\u001b[38;5;241;43m.\u001b[39;49m\u001b[43mPDFImageXObject\u001b[49m\u001b[43m(\u001b[49m\u001b[43mname\u001b[49m\u001b[43m,\u001b[49m\u001b[43m \u001b[49m\u001b[43mimage\u001b[49m\u001b[43m,\u001b[49m\u001b[43m \u001b[49m\u001b[43mmask\u001b[49m\u001b[38;5;241;43m=\u001b[39;49m\u001b[43mmask\u001b[49m\u001b[43m)\u001b[49m\n\u001b[1;32m   1003\u001b[0m     imgObj\u001b[38;5;241m.\u001b[39mname \u001b[38;5;241m=\u001b[39m name\n\u001b[1;32m   1004\u001b[0m     \u001b[38;5;28mself\u001b[39m\u001b[38;5;241m.\u001b[39m_setXObjects(imgObj)\n",
      "File \u001b[0;32m~/_envs/SRC_envs/src_env0/lib/python3.8/site-packages/reportlab/pdfbase/pdfdoc.py:2080\u001b[0m, in \u001b[0;36mPDFImageXObject.__init__\u001b[0;34m(self, name, source, mask)\u001b[0m\n\u001b[1;32m   2078\u001b[0m \u001b[38;5;28;01mimport\u001b[39;00m \u001b[38;5;21;01mos\u001b[39;00m\n\u001b[1;32m   2079\u001b[0m ext \u001b[38;5;241m=\u001b[39m os\u001b[38;5;241m.\u001b[39mpath\u001b[38;5;241m.\u001b[39msplitext(source)[\u001b[38;5;241m1\u001b[39m]\u001b[38;5;241m.\u001b[39mlower()\n\u001b[0;32m-> 2080\u001b[0m src \u001b[38;5;241m=\u001b[39m \u001b[43mopen_for_read\u001b[49m\u001b[43m(\u001b[49m\u001b[43msource\u001b[49m\u001b[43m)\u001b[49m\n\u001b[1;32m   2081\u001b[0m \u001b[38;5;28;01mtry\u001b[39;00m:\n\u001b[1;32m   2082\u001b[0m     \u001b[38;5;28;01mif\u001b[39;00m \u001b[38;5;129;01mnot\u001b[39;00m(ext \u001b[38;5;129;01min\u001b[39;00m (\u001b[38;5;124m'\u001b[39m\u001b[38;5;124m.jpg\u001b[39m\u001b[38;5;124m'\u001b[39m, \u001b[38;5;124m'\u001b[39m\u001b[38;5;124m.jpeg\u001b[39m\u001b[38;5;124m'\u001b[39m) \u001b[38;5;129;01mand\u001b[39;00m \u001b[38;5;28mself\u001b[39m\u001b[38;5;241m.\u001b[39mloadImageFromJPEG(src)):\n",
      "File \u001b[0;32m~/_envs/SRC_envs/src_env0/lib/python3.8/site-packages/reportlab/lib/utils.py:534\u001b[0m, in \u001b[0;36mopen_for_read\u001b[0;34m(name, mode)\u001b[0m\n\u001b[1;32m    532\u001b[0m             \u001b[38;5;28;01mraise\u001b[39;00m \u001b[38;5;167;01mIOError\u001b[39;00m(\u001b[38;5;124m'\u001b[39m\u001b[38;5;124mCannot open resource \u001b[39m\u001b[38;5;124m\"\u001b[39m\u001b[38;5;132;01m%s\u001b[39;00m\u001b[38;5;124m\"\u001b[39m\u001b[38;5;124m'\u001b[39m \u001b[38;5;241m%\u001b[39m name)\n\u001b[1;32m    533\u001b[0m \u001b[38;5;28mglobals\u001b[39m()[\u001b[38;5;124m'\u001b[39m\u001b[38;5;124mopen_for_read\u001b[39m\u001b[38;5;124m'\u001b[39m] \u001b[38;5;241m=\u001b[39m open_for_read\n\u001b[0;32m--> 534\u001b[0m \u001b[38;5;28;01mreturn\u001b[39;00m \u001b[43mopen_for_read\u001b[49m\u001b[43m(\u001b[49m\u001b[43mname\u001b[49m\u001b[43m,\u001b[49m\u001b[43mmode\u001b[49m\u001b[43m)\u001b[49m\n",
      "File \u001b[0;32m~/_envs/SRC_envs/src_env0/lib/python3.8/site-packages/reportlab/lib/utils.py:532\u001b[0m, in \u001b[0;36mopen_for_read.<locals>.open_for_read\u001b[0;34m(name, mode)\u001b[0m\n\u001b[1;32m    530\u001b[0m     \u001b[38;5;28;01mreturn\u001b[39;00m BytesIO((datareader \u001b[38;5;28;01mif\u001b[39;00m name[:\u001b[38;5;241m5\u001b[39m]\u001b[38;5;241m.\u001b[39mlower()\u001b[38;5;241m==\u001b[39m\u001b[38;5;124m'\u001b[39m\u001b[38;5;124mdata:\u001b[39m\u001b[38;5;124m'\u001b[39m \u001b[38;5;28;01melse\u001b[39;00m rlUrlRead)(name))\n\u001b[1;32m    531\u001b[0m \u001b[38;5;28;01mexcept\u001b[39;00m:\n\u001b[0;32m--> 532\u001b[0m     \u001b[38;5;28;01mraise\u001b[39;00m \u001b[38;5;167;01mIOError\u001b[39;00m(\u001b[38;5;124m'\u001b[39m\u001b[38;5;124mCannot open resource \u001b[39m\u001b[38;5;124m\"\u001b[39m\u001b[38;5;132;01m%s\u001b[39;00m\u001b[38;5;124m\"\u001b[39m\u001b[38;5;124m'\u001b[39m \u001b[38;5;241m%\u001b[39m name)\n",
      "\u001b[0;31mOSError\u001b[0m: Cannot open resource \"_PY_ultimate_Final_Returns_Graph_2.png\""
     ]
    }
   ],
   "source": [
    "from reportlab.lib.pagesizes import letter\n",
    "from reportlab.pdfgen import canvas\n",
    "from reportlab.lib.units import inch\n",
    "from datetime import datetime\n",
    "from reportlab.lib import colors\n",
    "\n",
    "def add_footer(canvas, page_number):\n",
    "    canvas.saveState()\n",
    "    canvas.setFont('Times-Italic', 10)\n",
    "    # Footer with address\n",
    "    footer_text = f\"Page {page_number} | Your Company Address | Contact Info\"\n",
    "    canvas.drawCentredString(4.25*inch, 0.25*inch, footer_text)\n",
    "    canvas.restoreState()\n",
    "\n",
    "def add_logo_and_title(canvas, width, height, logo_path):\n",
    "    # Add logo\n",
    "    canvas.drawImage(logo_path, 0.5 * inch, height - 1.5 * inch, 1 * inch, 1 * inch, preserveAspectRatio=True)\n",
    "    # Title\n",
    "    canvas.setFont('Times-Bold', 24)\n",
    "    canvas.drawCentredString(width / 2.0, height - 108, \"Financial Report\")\n",
    "    # Report date\n",
    "    canvas.setFont('Times-Roman', 12)\n",
    "    report_date = datetime.now().strftime(\"%d %B, %Y\")\n",
    "    canvas.drawCentredString(width / 2.0, height - 128, f\"Report Date: {report_date}\")\n",
    "\n",
    "def create_pdf(path, logo_path):\n",
    "    c = canvas.Canvas(path, pagesize=letter)\n",
    "    width, height = letter  # width = 612, height = 792\n",
    "\n",
    "    # Title page with logo and title\n",
    "    add_logo_and_title(c, width, height, logo_path)\n",
    "    c.showPage()\n",
    "\n",
    "    # Introduction page\n",
    "    c.setFont('Times-Roman', 14)\n",
    "    c.drawString(0.5 * inch, height - 2 * inch, \"Introduction:\")\n",
    "    intro_text = \"This financial report provides a comprehensive overview of financial performance, market trends, and strategic insights.\"\n",
    "    c.setFont('Times-Roman', 12)\n",
    "    c.drawString(0.5 * inch, height - 2.5 * inch, intro_text)\n",
    "    add_footer(c, 1)\n",
    "    c.showPage()\n",
    "\n",
    "    # Page with image and text sections\n",
    "    image_path = \"_PY_ultimate_Final_Returns_Graph_2.png\"\n",
    "    # Enlarge the image a bit more and adjust to the left\n",
    "    c.drawImage(image_path, 0.9 * inch, 0.9 * inch, width / 1.2, height - (-2) * inch, preserveAspectRatio=True)\n",
    "    c.setFont('Times-Roman', 12)\n",
    "    text_sections = [\"Section A: More details.\", \"Section B: Further analysis.\"]\n",
    "    # Text section positioning more elegantly\n",
    "    for i, section in enumerate(text_sections):\n",
    "        c.drawString(width / 2.0 + 0.75 * inch, height - (i + 1) * height / 3.0, section)\n",
    "    add_footer(c, 2)\n",
    "    \n",
    "    c.showPage()\n",
    "    c.save()\n",
    "\n",
    "# Specify the path to your logo here\n",
    "logo_path = \"logo_1.png\"\n",
    "create_pdf(\"enhanced_financial_report.pdf\", logo_path)\n"
   ]
  },
  {
   "cell_type": "markdown",
   "id": "b90102b2-48f0-4dbf-93be-75cdd2bde824",
   "metadata": {},
   "source": [
    "# 2"
   ]
  },
  {
   "cell_type": "code",
   "execution_count": null,
   "id": "4d4df61b-bcc9-48ca-aed7-3447aa721639",
   "metadata": {},
   "outputs": [],
   "source": []
  },
  {
   "cell_type": "code",
   "execution_count": null,
   "id": "944bad7b-d454-4a6e-bb82-2067605368f1",
   "metadata": {},
   "outputs": [],
   "source": []
  },
  {
   "cell_type": "markdown",
   "id": "ec4e0b2d-2c38-4434-a81a-5dd7045b33dc",
   "metadata": {},
   "source": [
    "# 2"
   ]
  },
  {
   "cell_type": "code",
   "execution_count": null,
   "id": "a13edfc2-d12b-4267-a71c-d7d533bc5c44",
   "metadata": {},
   "outputs": [],
   "source": []
  },
  {
   "cell_type": "code",
   "execution_count": null,
   "id": "9e6e5b7f-7ad1-4dec-8d63-ac7950b75c22",
   "metadata": {},
   "outputs": [],
   "source": []
  },
  {
   "cell_type": "markdown",
   "id": "9001f84b-528b-466b-b393-f0f4ffd10e09",
   "metadata": {},
   "source": [
    "# 2"
   ]
  },
  {
   "cell_type": "markdown",
   "id": "e9c017af-c5ea-4c62-a7e8-7b0a4e88e475",
   "metadata": {},
   "source": [
    "# 2"
   ]
  },
  {
   "cell_type": "code",
   "execution_count": null,
   "id": "fa9ab9b5-af98-4092-ae28-ef6b712e6066",
   "metadata": {},
   "outputs": [],
   "source": []
  }
 ],
 "metadata": {
  "kernelspec": {
   "display_name": "Python 3 (ipykernel)",
   "language": "python",
   "name": "python3"
  },
  "language_info": {
   "codemirror_mode": {
    "name": "ipython",
    "version": 3
   },
   "file_extension": ".py",
   "mimetype": "text/x-python",
   "name": "python",
   "nbconvert_exporter": "python",
   "pygments_lexer": "ipython3",
   "version": "3.8.18"
  }
 },
 "nbformat": 4,
 "nbformat_minor": 5
}
