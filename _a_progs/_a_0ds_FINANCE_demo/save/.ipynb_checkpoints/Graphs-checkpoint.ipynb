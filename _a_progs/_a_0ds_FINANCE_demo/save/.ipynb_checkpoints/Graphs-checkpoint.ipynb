{
 "cells": [
  {
   "cell_type": "code",
   "execution_count": 3,
   "id": "003e0a83-d0e7-4a08-ab41-7f51152035b0",
   "metadata": {},
   "outputs": [],
   "source": [
    "from reportlab.lib.pagesizes import letter\n",
    "from reportlab.pdfgen import canvas\n",
    "from reportlab.lib.units import inch\n",
    "from datetime import datetime\n",
    "\n",
    "def add_footer(canvas, page_number):\n",
    "    canvas.saveState()\n",
    "    canvas.setFont('Times-Italic', 10)\n",
    "    footer_text = f\"Page {page_number}\"\n",
    "    canvas.drawCentredString(4.25*inch, 0.5*inch, footer_text)\n",
    "    canvas.restoreState()\n",
    "\n",
    "def create_pdf(path):\n",
    "    c = canvas.Canvas(path, pagesize=letter)\n",
    "    width, height = letter  # width = 612, height = 792\n",
    "\n",
    "    # Title page\n",
    "    c.setFont('Times-Bold', 24)\n",
    "    c.drawCentredString(width / 2.0, height - 108, \"Financial Report\")\n",
    "    c.setFont('Times-Roman', 12)\n",
    "    report_date = datetime.now().strftime(\"%d %B, %Y\")\n",
    "    c.drawCentredString(width / 2.0, height - 128, f\"Report Date: {report_date}\")\n",
    "    c.showPage()\n",
    "\n",
    "    # Second page with quadrants\n",
    "    c.setFont('Times-Roman', 12)\n",
    "    quadrant_texts = [\"Top Left: Summary\", \"Top Right: Overview\", \"Bottom Left: Details\", \"Bottom Right: Analysis\"]\n",
    "    x_positions = [width / 4.0, 3 * width / 4.0]\n",
    "    y_positions = [3 * height / 4.0, height / 4.0]\n",
    "    for i, text in enumerate(quadrant_texts):\n",
    "        x = x_positions[i % 2]\n",
    "        y = y_positions[i // 2]\n",
    "        c.drawCentredString(x, y, text)\n",
    "    add_footer(c, 2)\n",
    "    c.showPage()\n",
    "\n",
    "    # Third page with image and text sections\n",
    "    image_path = \"_PY_ultimate_Final_Returns_Graph.png\"\n",
    "    c.drawImage(image_path, width / 2.0 + 0.1 * inch, 0.5 * inch, width / 2.0 - 0.2 * inch, height - 1 * inch, preserveAspectRatio=True)\n",
    "    c.setFont('Times-Roman', 12)\n",
    "    text_sections = [\"Section A\", \"Section B\", \"Section C\"]\n",
    "    for i in range(3):\n",
    "        c.drawString(0.5 * inch, (2 - i) * height / 4.0 + height / 8.0, f\"{text_sections[i]}: Detailed text here.\")\n",
    "    add_footer(c, 3)\n",
    "    \n",
    "    c.showPage()\n",
    "\n",
    "    c.save()\n",
    "\n",
    "create_pdf(\"financial_report.pdf\")\n",
    "print('DONE')"
   ]
  },
  {
   "cell_type": "code",
   "execution_count": null,
   "id": "2ae024be-b3c7-4ebf-998b-79d6ac4afcc9",
   "metadata": {},
   "outputs": [],
   "source": []
  }
 ],
 "metadata": {
  "kernelspec": {
   "display_name": "Python 3 (ipykernel)",
   "language": "python",
   "name": "python3"
  },
  "language_info": {
   "codemirror_mode": {
    "name": "ipython",
    "version": 3
   },
   "file_extension": ".py",
   "mimetype": "text/x-python",
   "name": "python",
   "nbconvert_exporter": "python",
   "pygments_lexer": "ipython3",
   "version": "3.8.18"
  }
 },
 "nbformat": 4,
 "nbformat_minor": 5
}
