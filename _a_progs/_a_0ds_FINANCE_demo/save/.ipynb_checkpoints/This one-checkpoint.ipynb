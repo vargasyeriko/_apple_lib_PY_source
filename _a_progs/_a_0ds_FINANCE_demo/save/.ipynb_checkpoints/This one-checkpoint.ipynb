{
 "cells": [
  {
   "cell_type": "code",
   "execution_count": 116,
   "id": "27388581-510c-4881-a843-1568aa6f0af0",
   "metadata": {},
   "outputs": [],
   "source": [
    "# ret_apr = (((116557.57 + (5929.68 -5839.47)))/115521.49) /100    \n",
    "# # axis show 0 and 100k more labels for y axis \n",
    "# # mre explicit, this is july 2022 till \n",
    "# # df.tail(5)\n",
    "# # emphasis 9n the start of the investment , and also end of each month "
   ]
  },
  {
   "cell_type": "code",
   "execution_count": 117,
   "id": "2d85d398-ffdc-4abc-a502-e4c6157f2307",
   "metadata": {
    "scrolled": true
   },
   "outputs": [
    {
     "name": "stdout",
     "output_type": "stream",
     "text": [
      "\n",
      " ATTN !! _22_ LEDGER EXPORTED _df_costs_1_2_complete_LEDGER.pkl\n",
      "\n",
      "\n",
      "BROCKAGE COSTS till 2022-07-01 are $ 606\n",
      "\n"
     ]
    },
    {
     "name": "stdin",
     "output_type": "stream",
     "text": [
      "Type 'cd' for today's date or 'pd' for the past adjusted date or the last day of the month:  pd\n",
      "Enter the number of months ago:  1\n"
     ]
    },
    {
     "name": "stdout",
     "output_type": "stream",
     "text": [
      "Selected cutoff date: 2024-04-30\n",
      "2024-04-30 00:00:00\n",
      "2024-04-30\n",
      "- - - - - - - - - - - - - > LEDGER PROCESSED\n",
      "2024-03-30\n",
      "- - - - - - - - - - - - - > LEDGER PROCESSED\n",
      "2024-02-29\n",
      "- - - - - - - - - - - - - > LEDGER PROCESSED\n",
      "2024-01-30\n",
      "- - - - - - - - - - - - - > LEDGER PROCESSED\n",
      "2023-12-30\n",
      "- - - - - - - - - - - - - > LEDGER PROCESSED\n",
      "2023-11-30\n",
      "- - - - - - - - - - - - - > LEDGER PROCESSED\n",
      "2023-10-30\n",
      "- - - - - - - - - - - - - > LEDGER PROCESSED\n",
      "2023-09-30\n",
      "- - - - - - - - - - - - - > LEDGER PROCESSED\n",
      "2023-08-30\n",
      "- - - - - - - - - - - - - > LEDGER PROCESSED\n",
      "2023-07-30\n",
      "- - - - - - - - - - - - - > LEDGER PROCESSED\n",
      "2023-06-30\n",
      "- - - - - - - - - - - - - > LEDGER PROCESSED\n",
      "2023-05-30\n",
      "- - - - - - - - - - - - - > LEDGER PROCESSED\n",
      "2023-04-30\n",
      "- - - - - - - - - - - - - > LEDGER PROCESSED\n",
      "2023-03-30\n",
      "- - - - - - - - - - - - - > LEDGER PROCESSED\n",
      "2023-02-28\n",
      "- - - - - - - - - - - - - > LEDGER PROCESSED\n",
      "2023-01-30\n",
      "- - - - - - - - - - - - - > LEDGER PROCESSED\n",
      "2022-12-30\n",
      "- - - - - - - - - - - - - > LEDGER PROCESSED\n",
      "2022-11-30\n",
      "- - - - - - - - - - - - - > LEDGER PROCESSED\n",
      "2022-10-30\n",
      "- - - - - - - - - - - - - > LEDGER PROCESSED\n",
      "2022-09-30\n",
      "- - - - - - - - - - - - - > LEDGER PROCESSED\n",
      "2022-08-30\n",
      "- - - - - - - - - - - - - > LEDGER PROCESSED\n",
      "2022-07-30\n",
      "- - - - - - - - - - - - - > LEDGER PROCESSED\n"
     ]
    }
   ],
   "source": [
    "%run _22_tbls.py"
   ]
  },
  {
   "cell_type": "code",
   "execution_count": 118,
   "id": "c6639974-bdc4-417b-96c9-28a6f5893d34",
   "metadata": {},
   "outputs": [],
   "source": [
    "# RESET\n",
    "#df_1cp = df1r"
   ]
  },
  {
   "cell_type": "code",
   "execution_count": 119,
   "id": "4f266e35-b2b1-4500-8419-d86e5d059689",
   "metadata": {},
   "outputs": [],
   "source": [
    "# last df_report\n",
    "df_report\n",
    "df = df_report.merge(df_br_costs, on='period', how='left').copy()\n",
    "#df.head()\n",
    "\n",
    "brokerage_paid = df['trans_fee'].sum()\n",
    "initial_investment= 100000 \n",
    "d_start_date= '2022-07-01'\n",
    "cash_init = 1852.200000\n",
    "# Monthly returns table \n",
    "df = df.drop_duplicates(subset=['period'], keep='first')\n",
    "df = df[['AnalysisEndDate','period',\n",
    "       'period_divs','period_total_cash',\n",
    "       'period_stocks_value','period_total_holds'\n",
    "      ]]\n",
    "\n",
    "per_inv = len(df)\n",
    "new_row = {\n",
    "    \"AnalysisEndDate\": d_start_date,\n",
    "    \"period\": per_inv,  # Assigning -1 to denote initial state before period 0\n",
    "\n",
    "    \"period_divs\": 0,\n",
    "    \"period_total_cash\": cash_init+0,\n",
    "    \"period_stocks_value\": initial_investment-cash_init,\n",
    "    \"period_total_holds\": initial_investment\n",
    "}\n",
    "\n",
    "# Appending the new row\n",
    "df = df.append(new_row, ignore_index=True)\n",
    "df.sort_values(by='period', ascending=True, inplace=True)\n",
    "# Calculate monthly returns\n",
    "df = df.merge(df_br_costs, on='period', how='left').copy()\n",
    "# ACCOUNT NOW FOR TRANS FEES.\n",
    "\n",
    "df['cash_shifted_last'] = df['period_total_cash'].shift(-1)\n",
    "df['stock_shifted_last'] = df['period_stocks_value'].shift(-1)\n",
    "\n",
    "df_1cp = df.copy()\n"
   ]
  },
  {
   "cell_type": "code",
   "execution_count": 120,
   "id": "c9a57d07-dce0-44ce-bf9e-b5696be3e00c",
   "metadata": {},
   "outputs": [],
   "source": [
    "all_trans_fee = df_1cp['trans_fee'].sum()"
   ]
  },
  {
   "cell_type": "code",
   "execution_count": 121,
   "id": "625ea1be-7285-4bdf-bd0c-c4b05873598a",
   "metadata": {},
   "outputs": [],
   "source": [
    "# RESET\n",
    "df1r = df_1cp.copy()\n",
    "df_1cp = df1r.copy()"
   ]
  },
  {
   "cell_type": "code",
   "execution_count": 122,
   "id": "f829bb18-40ec-4c29-9d25-6e7d9bbf4cf8",
   "metadata": {},
   "outputs": [],
   "source": [
    "# Calculate the change in CASH FLOW values between the current period and the next period\n",
    "\n",
    "df_1cp['period_DIFF_cash'] = df_1cp['period_total_cash']-df_1cp['cash_shifted_last']\n",
    "# Calculate the change in stock values between the current period and the next period\n",
    "df_1cp['period_DIFF_stock'] = df_1cp['period_stocks_value'] - df_1cp['stock_shifted_last']\n"
   ]
  },
  {
   "cell_type": "code",
   "execution_count": 123,
   "id": "0fb2f5bb-b4b8-4730-a043-f327a68f6cae",
   "metadata": {},
   "outputs": [],
   "source": [
    "df_1cp['return_percentage'] = ((df_1cp['period_stocks_value'] - df_1cp['stock_shifted_last'] + df_1cp['period_DIFF_cash']) / df_1cp['stock_shifted_last']) * 100\n"
   ]
  },
  {
   "cell_type": "code",
   "execution_count": 124,
   "id": "680731af-cbb1-4f2b-9ab1-b7fe66fa86ca",
   "metadata": {},
   "outputs": [],
   "source": [
    "#(116047.03/117948.11) + (122/117948.11) -1"
   ]
  },
  {
   "cell_type": "code",
   "execution_count": 125,
   "id": "0c765d80-b4fe-4d05-a83f-e183f63ceb65",
   "metadata": {},
   "outputs": [],
   "source": [
    "df_1cp['total_return'] = ((df_1cp['period_total_holds']/initial_investment)-1)*100"
   ]
  },
  {
   "cell_type": "code",
   "execution_count": 126,
   "id": "a5a3ac5c-60db-4eae-a273-ee9173a683f4",
   "metadata": {
    "scrolled": true
   },
   "outputs": [
    {
     "data": {
      "text/html": [
       "<div>\n",
       "<style scoped>\n",
       "    .dataframe tbody tr th:only-of-type {\n",
       "        vertical-align: middle;\n",
       "    }\n",
       "\n",
       "    .dataframe tbody tr th {\n",
       "        vertical-align: top;\n",
       "    }\n",
       "\n",
       "    .dataframe thead th {\n",
       "        text-align: right;\n",
       "    }\n",
       "</style>\n",
       "<table border=\"1\" class=\"dataframe\">\n",
       "  <thead>\n",
       "    <tr style=\"text-align: right;\">\n",
       "      <th></th>\n",
       "      <th>AnalysisEndDate</th>\n",
       "      <th>period</th>\n",
       "      <th>period_divs</th>\n",
       "      <th>period_total_cash</th>\n",
       "      <th>period_stocks_value</th>\n",
       "      <th>period_total_holds</th>\n",
       "      <th>trans_fee</th>\n",
       "      <th>cash_shifted_last</th>\n",
       "      <th>stock_shifted_last</th>\n",
       "      <th>period_DIFF_cash</th>\n",
       "      <th>period_DIFF_stock</th>\n",
       "      <th>return_percentage</th>\n",
       "      <th>total_return</th>\n",
       "    </tr>\n",
       "  </thead>\n",
       "  <tbody>\n",
       "    <tr>\n",
       "      <th>0</th>\n",
       "      <td>2024-04-30</td>\n",
       "      <td>0</td>\n",
       "      <td>5873.99</td>\n",
       "      <td>6359.88</td>\n",
       "      <td>116047.03</td>\n",
       "      <td>122406.90</td>\n",
       "      <td>0</td>\n",
       "      <td>6237.63</td>\n",
       "      <td>117948.11</td>\n",
       "      <td>122.25</td>\n",
       "      <td>-1901.08</td>\n",
       "      <td>-1.508146</td>\n",
       "      <td>22.40690</td>\n",
       "    </tr>\n",
       "    <tr>\n",
       "      <th>1</th>\n",
       "      <td>2024-03-30</td>\n",
       "      <td>1</td>\n",
       "      <td>5751.75</td>\n",
       "      <td>6237.63</td>\n",
       "      <td>117948.11</td>\n",
       "      <td>124185.74</td>\n",
       "      <td>0</td>\n",
       "      <td>5999.06</td>\n",
       "      <td>113942.85</td>\n",
       "      <td>238.57</td>\n",
       "      <td>4005.26</td>\n",
       "      <td>3.724525</td>\n",
       "      <td>24.18574</td>\n",
       "    </tr>\n",
       "    <tr>\n",
       "      <th>2</th>\n",
       "      <td>2024-02-29</td>\n",
       "      <td>2</td>\n",
       "      <td>5513.18</td>\n",
       "      <td>5999.06</td>\n",
       "      <td>113942.85</td>\n",
       "      <td>119941.92</td>\n",
       "      <td>0</td>\n",
       "      <td>8237.60</td>\n",
       "      <td>107876.50</td>\n",
       "      <td>-2238.54</td>\n",
       "      <td>6066.35</td>\n",
       "      <td>3.548326</td>\n",
       "      <td>19.94192</td>\n",
       "    </tr>\n",
       "    <tr>\n",
       "      <th>3</th>\n",
       "      <td>2024-01-30</td>\n",
       "      <td>3</td>\n",
       "      <td>5269.38</td>\n",
       "      <td>8237.60</td>\n",
       "      <td>107876.50</td>\n",
       "      <td>116114.10</td>\n",
       "      <td>99</td>\n",
       "      <td>7929.31</td>\n",
       "      <td>108139.60</td>\n",
       "      <td>308.29</td>\n",
       "      <td>-263.10</td>\n",
       "      <td>0.041789</td>\n",
       "      <td>16.11410</td>\n",
       "    </tr>\n",
       "    <tr>\n",
       "      <th>4</th>\n",
       "      <td>2023-12-30</td>\n",
       "      <td>4</td>\n",
       "      <td>4961.09</td>\n",
       "      <td>7929.31</td>\n",
       "      <td>108139.60</td>\n",
       "      <td>116068.91</td>\n",
       "      <td>13</td>\n",
       "      <td>7711.41</td>\n",
       "      <td>104047.28</td>\n",
       "      <td>217.90</td>\n",
       "      <td>4092.32</td>\n",
       "      <td>4.142559</td>\n",
       "      <td>16.06891</td>\n",
       "    </tr>\n",
       "  </tbody>\n",
       "</table>\n",
       "</div>"
      ],
      "text/plain": [
       "  AnalysisEndDate  period  period_divs  period_total_cash  \\\n",
       "0      2024-04-30       0      5873.99            6359.88   \n",
       "1      2024-03-30       1      5751.75            6237.63   \n",
       "2      2024-02-29       2      5513.18            5999.06   \n",
       "3      2024-01-30       3      5269.38            8237.60   \n",
       "4      2023-12-30       4      4961.09            7929.31   \n",
       "\n",
       "   period_stocks_value  period_total_holds  trans_fee  cash_shifted_last  \\\n",
       "0            116047.03           122406.90          0            6237.63   \n",
       "1            117948.11           124185.74          0            5999.06   \n",
       "2            113942.85           119941.92          0            8237.60   \n",
       "3            107876.50           116114.10         99            7929.31   \n",
       "4            108139.60           116068.91         13            7711.41   \n",
       "\n",
       "   stock_shifted_last  period_DIFF_cash  period_DIFF_stock  return_percentage  \\\n",
       "0           117948.11            122.25           -1901.08          -1.508146   \n",
       "1           113942.85            238.57            4005.26           3.724525   \n",
       "2           107876.50          -2238.54            6066.35           3.548326   \n",
       "3           108139.60            308.29            -263.10           0.041789   \n",
       "4           104047.28            217.90            4092.32           4.142559   \n",
       "\n",
       "   total_return  \n",
       "0      22.40690  \n",
       "1      24.18574  \n",
       "2      19.94192  \n",
       "3      16.11410  \n",
       "4      16.06891  "
      ]
     },
     "execution_count": 126,
     "metadata": {},
     "output_type": "execute_result"
    }
   ],
   "source": [
    "df_1cp.head()"
   ]
  },
  {
   "cell_type": "code",
   "execution_count": 127,
   "id": "ce646ede-fb59-4475-a6c4-c66dcedf413a",
   "metadata": {},
   "outputs": [
    {
     "name": "stdout",
     "output_type": "stream",
     "text": [
      "The total monthly percentage return of the fund including \n",
      "monthly dividends the end date of 2024-04-30 00:00:00, was: -1.51%\n",
      "\n"
     ]
    }
   ],
   "source": [
    "# Convert 'AnalysisEndDate' to datetime just once for the whole DataFrame\n",
    "df_1cp['AnalysisEndDate'] = pd.to_datetime(df_1cp['AnalysisEndDate'])\n",
    "\n",
    "# Get the first and last date from the DataFrame\n",
    "start_date = df_1cp.iloc[-1]['AnalysisEndDate']\n",
    "end_date = df_1cp.iloc[0]['AnalysisEndDate']\n",
    "# Extract the day of the month for both start and end dates\n",
    "start_day = start_date.day\n",
    "end_day = end_date.day\n",
    "# Format these dates to extract month and year\n",
    "start_month = start_date.strftime('%B %Y')\n",
    "end_month = end_date.strftime('%B %Y')\n",
    "\n",
    "\n",
    "end_date = df_1cp.iloc[0]['AnalysisEndDate']\n",
    "m_ret = df_1cp.iloc[0]['return_percentage']\n",
    "#print(f'{end_date}')\n",
    "message_mr = f\"\"\"The total monthly percentage return of the fund including \n",
    "monthly dividends the end date of {end_date}, was: {m_ret:.2f}%\n",
    "\"\"\"\n",
    "print(message_mr)"
   ]
  },
  {
   "cell_type": "code",
   "execution_count": 128,
   "id": "fded64c3-e501-4de8-ad5f-ae76b13c58cb",
   "metadata": {},
   "outputs": [
    {
     "name": "stdout",
     "output_type": "stream",
     "text": [
      "The total return of the fund including dividends and,\n",
      "cash flow since Inception the end date of 2024-04-30 00:00:00, was:  22.41%\n",
      "\n"
     ]
    }
   ],
   "source": [
    "# Convert 'AnalysisEndDate' to datetime just once for the whole DataFrame\n",
    "df_1cp['AnalysisEndDate'] = pd.to_datetime(df_1cp['AnalysisEndDate'])\n",
    "\n",
    "# Get the first and last date from the DataFrame\n",
    "start_date = df_1cp.iloc[-1]['AnalysisEndDate']\n",
    "end_date = df_1cp.iloc[0]['AnalysisEndDate']\n",
    "# Extract the day of the month for both start and end dates\n",
    "start_day = start_date.day\n",
    "end_day = end_date.day\n",
    "# Format these dates to extract month and year\n",
    "start_month = start_date.strftime('%B %Y')\n",
    "end_month = end_date.strftime('%B %Y')\n",
    "\n",
    "\n",
    "total_return = df_1cp.iloc[0]['total_return'] # here is logical that you use the last full amount \n",
    "\n",
    "message_tr = f\"\"\"The total return of the fund including dividends and,\n",
    "cash flow since Inception the end date of {end_date}, was:  {total_return:.2f}%\n",
    "\"\"\"\n",
    "print(message_tr)"
   ]
  },
  {
   "cell_type": "code",
   "execution_count": 129,
   "id": "aabba2f5-2749-4e35-8a85-a778b8b9c6ca",
   "metadata": {},
   "outputs": [
    {
     "name": "stdout",
     "output_type": "stream",
     "text": [
      "The total Stock Holding Value at the end date of 2024-04-30 00:00:00, was: 116047.03 $\n",
      "\n"
     ]
    }
   ],
   "source": [
    "# Convert 'AnalysisEndDate' to datetime just once for the whole DataFrame\n",
    "df_1cp['AnalysisEndDate'] = pd.to_datetime(df_1cp['AnalysisEndDate'])\n",
    "\n",
    "# Get the first and last date from the DataFrame\n",
    "start_date = df_1cp.iloc[-1]['AnalysisEndDate']\n",
    "end_date = df_1cp.iloc[0]['AnalysisEndDate']\n",
    "# Extract the day of the month for both start and end dates\n",
    "start_day = start_date.day\n",
    "end_day = end_date.day\n",
    "# Format these dates to extract month and year\n",
    "start_month = start_date.strftime('%B %Y')\n",
    "end_month = end_date.strftime('%B %Y')\n",
    "\n",
    "# Get the return percentage from the first recordable calculation\n",
    "total_return_stocks = df_1cp.iloc[0]['period_stocks_value']  # This picks the latest month's return\n",
    "# Create the message\n",
    "message_psr = f\"\"\"The total Stock Holding Value at the end date of {end_date}, was: {total_return_stocks:.2f} $\n",
    "\"\"\"\n",
    "print(message_psr)\n"
   ]
  },
  {
   "cell_type": "code",
   "execution_count": 130,
   "id": "eb913342-5870-4318-996c-4c32fbcb13fe",
   "metadata": {},
   "outputs": [
    {
     "name": "stdout",
     "output_type": "stream",
     "text": [
      "The total Dividends amount from 01 July 2022 to 30 April 2024, was: 5873.99 $\n",
      "\n"
     ]
    }
   ],
   "source": [
    "# Convert 'AnalysisEndDate' to datetime just once for the whole DataFrame\n",
    "df_1cp['AnalysisEndDate'] = pd.to_datetime(df_1cp['AnalysisEndDate'])\n",
    "\n",
    "# Get the first and last date from the DataFrame\n",
    "start_date = df_1cp.iloc[-1]['AnalysisEndDate']\n",
    "end_date = df_1cp.iloc[0]['AnalysisEndDate']\n",
    "# Extract the day of the month for both start and end dates\n",
    "start_day = start_date.day\n",
    "end_day = end_date.day\n",
    "# Format these dates to extract month and year\n",
    "start_month = start_date.strftime('%B %Y')\n",
    "end_month = end_date.strftime('%B %Y')\n",
    "\n",
    "# divs\n",
    "total_return_divs = df_1cp.iloc[0]['period_divs']\n",
    "\n",
    "# Create the message\n",
    "message_pca = f\"\"\"\n",
    "The total Dividends amount from {start_date.strftime('%d %B %Y')} to {end_date.strftime('%d %B %Y')}, was: {total_return_divs:.2f} $\n",
    "\"\"\"\n",
    "print(message_pca)\n",
    "\n"
   ]
  },
  {
   "cell_type": "code",
   "execution_count": 131,
   "id": "bda4a7d3-4136-4628-9448-5428000feb66",
   "metadata": {},
   "outputs": [
    {
     "name": "stdout",
     "output_type": "stream",
     "text": [
      "The total monthly Dividends yield from  30 March 2024 to 30 April 2024, was: 0.02 $\n",
      "\n"
     ]
    }
   ],
   "source": [
    "# Convert 'AnalysisEndDate' to datetime just once for the whole DataFrame\n",
    "df_1cp['AnalysisEndDate'] = pd.to_datetime(df_1cp['AnalysisEndDate'])\n",
    "\n",
    "# Get the first and last date from the DataFrame\n",
    "start_date = df_1cp.iloc[1]['AnalysisEndDate']\n",
    "end_date = df_1cp.iloc[0]['AnalysisEndDate']\n",
    "# Extract the day of the month for both start and end dates\n",
    "start_day = start_date.day\n",
    "end_day = end_date.day\n",
    "# Format these dates to extract month and year\n",
    "start_month = start_date.strftime('%B %Y')\n",
    "end_month = end_date.strftime('%B %Y')\n",
    "\n",
    "# divs\n",
    "total_return_divs = (df_1cp.iloc[0]['period_divs'] - df.iloc[1]['period_divs'])/df.iloc[1]['period_divs']\n",
    "\n",
    "# Create the message\n",
    "message_psd = f\"\"\"The total monthly Dividends yield from  {start_date.strftime('%d %B %Y')} to {end_date.strftime('%d %B %Y')}, was: {total_return_divs:.2f} $\n",
    "\"\"\"\n",
    "print(message_psd)\n",
    "\n"
   ]
  },
  {
   "cell_type": "code",
   "execution_count": 132,
   "id": "f863429f-2565-4c7f-9c9b-fc3e278e1b0d",
   "metadata": {},
   "outputs": [
    {
     "data": {
      "text/plain": [
       "'Total amount of share brokerage paid since 1/7/2022:  example: $600'"
      ]
     },
     "execution_count": 132,
     "metadata": {},
     "output_type": "execute_result"
    }
   ],
   "source": [
    "'''Total amount of share brokerage paid since 1/7/2022:  example: $600'''"
   ]
  },
  {
   "cell_type": "code",
   "execution_count": null,
   "id": "8119a2e6-67b0-4c20-80c6-32154218bb15",
   "metadata": {},
   "outputs": [],
   "source": []
  },
  {
   "cell_type": "code",
   "execution_count": 133,
   "id": "21cdf708-2963-4173-8d84-ca1b88af679e",
   "metadata": {},
   "outputs": [],
   "source": [
    "\n",
    "# current cash excess amount \n",
    "\n",
    "# Get the first and last date from the DataFrame\n",
    "start_date = df_1cp.iloc[-1]['AnalysisEndDate']\n",
    "end_date = df_1cp.iloc[0]['AnalysisEndDate']\n",
    "\n",
    "# Since start_date and end_date are already datetime objects, you can directly use them\n",
    "# Extract the day of the month for both start and end dates\n",
    "start_day = start_date.day\n",
    "end_day = end_date.day\n",
    "\n",
    "# Format these dates to extract month and year\n",
    "start_month = start_date.strftime('%B %Y')\n",
    "end_month = end_date.strftime('%B %Y')\n",
    "\n",
    "# Get the return percentage from the first recordable calculation\n",
    "total_return =  df_1cp.iloc[0]['period_total_cash']  # This picks the latest month's return"
   ]
  },
  {
   "cell_type": "code",
   "execution_count": 134,
   "id": "8344cbd5-61e9-4e87-bc25-77fddf2f1140",
   "metadata": {},
   "outputs": [],
   "source": [
    "message_pcb = f'The current cash in this portfolio including dividends is {total_return}'"
   ]
  },
  {
   "cell_type": "code",
   "execution_count": 135,
   "id": "5eb4c1da-9fd9-4901-bea2-3be6e3ed89a9",
   "metadata": {},
   "outputs": [
    {
     "name": "stdout",
     "output_type": "stream",
     "text": [
      "\n",
      "The Compound Annual Growth Rate (CAGR) for the portfolio\n",
      "from 01 July 2022 to 30 April 2024 is approximately 8.15% per annum\n",
      "\n"
     ]
    }
   ],
   "source": [
    "# YEARLY yield and that it \n",
    "\n",
    "\n",
    "# Get the first and last date from the DataFrame\n",
    "start_date = df_1cp.iloc[-1]['AnalysisEndDate']\n",
    "end_date = df_1cp.iloc[0]['AnalysisEndDate']\n",
    "\n",
    "# Since start_date and end_date are already datetime objects, you can directly use them\n",
    "# Extract the day of the month for both start and end dates\n",
    "start_day = start_date.day\n",
    "end_day = end_date.day\n",
    "\n",
    "# Format these dates to extract month and year\n",
    "start_month = start_date.strftime('%B %Y')\n",
    "end_month = end_date.strftime('%B %Y')\n",
    "# Get the first and last date from the DataFrame\n",
    "\n",
    "\n",
    "final_value = total_return_stocks\n",
    "dividends_received = total_return_divs\n",
    "\n",
    "total_adjusted_final = final_value - initial_investment + dividends_received - all_trans_fee\n",
    "time_difference = (end_date - start_date).days / 365.25  # Use 365.25 to account for leap years\n",
    "\n",
    "CAGR = ((final_value + dividends_received - all_trans_fee) / initial_investment) ** (1 / time_difference) - 1\n",
    "CAGR_percentage = CAGR * 100\n",
    "\n",
    "message_cagr =f\"\"\"\n",
    "The Compound Annual Growth Rate (CAGR) for the portfolio\n",
    "from {start_date.strftime('%d %B %Y')} to {end_date.strftime('%d %B %Y')} is approximately {CAGR_percentage:.2f}% per annum\n",
    "\"\"\"\n",
    "\n",
    "print(message_cagr)"
   ]
  },
  {
   "cell_type": "code",
   "execution_count": 137,
   "id": "3e614f90-422a-4e74-b054-7d22823261cf",
   "metadata": {},
   "outputs": [],
   "source": [
    "\n",
    "######################################################\n",
    "###############################################################\n",
    "report_p1 = f\"\"\"\n",
    "*********************************************************************\n",
    "\n",
    "Assuming Balance Growth, we have the following:\n",
    "\n",
    "Portfolio Initial investment is: ${initial_investment} \n",
    "Approximately, we have blockage costs of: ${all_trans_fee}\n",
    "\n",
    "{message_mr}\n",
    "{message_tr}\n",
    "{message_psr}\n",
    " -{message_psd}\n",
    " -{message_pcb}\n",
    "{message_pca}\n",
    "{message_cagr}\n",
    "*********************************************************************\n",
    "\"\"\"\n",
    "def report_p1_fn(report_p1):\n",
    "    print(report_p1)\n",
    "    return report_p1\n"
   ]
  },
  {
   "cell_type": "code",
   "execution_count": 138,
   "id": "ad737bb5-3b73-4eff-b725-2f56a8ec92a2",
   "metadata": {},
   "outputs": [
    {
     "name": "stdout",
     "output_type": "stream",
     "text": [
      "\n",
      "*********************************************************************\n",
      "\n",
      "Assuming Balance Growth, we have the following:\n",
      "\n",
      "Portfolio Initial investment is: $100000 \n",
      "Approximately, we have blockage costs of: $606\n",
      "\n",
      "The total monthly percentage return of the fund including \n",
      "monthly dividends the end date of 2024-04-30 00:00:00, was: -1.51%\n",
      "\n",
      "The total return of the fund including dividends and,\n",
      "cash flow since Inception the end date of 2024-04-30 00:00:00, was:  22.41%\n",
      "\n",
      "The total Stock Holding Value at the end date of 2024-04-30 00:00:00, was: 116047.03 $\n",
      "\n",
      " -The total monthly Dividends yield from  30 March 2024 to 30 April 2024, was: 0.02 $\n",
      "\n",
      " -The current cash in this portfolio including dividends is 6359.88\n",
      "The total Dividends amount from 01 July 2022 to 30 April 2024, was: 5873.99 $\n",
      "\n",
      "\n",
      "The Compound Annual Growth Rate (CAGR) for the portfolio\n",
      "from 01 July 2022 to 30 April 2024 is approximately 8.15% per annum\n",
      "\n",
      "*********************************************************************\n",
      "\n"
     ]
    }
   ],
   "source": [
    "print(report_p1)"
   ]
  },
  {
   "cell_type": "code",
   "execution_count": null,
   "id": "20a03316-7aba-42fd-9cdc-7bb8e0b2ffc8",
   "metadata": {},
   "outputs": [],
   "source": []
  },
  {
   "cell_type": "code",
   "execution_count": null,
   "id": "de1f1577-be37-4c4e-acbc-c17cfd1c6f05",
   "metadata": {},
   "outputs": [],
   "source": []
  },
  {
   "attachments": {
    "869557ea-afc8-4fc4-afa9-75459bb99484.png": {
     "image/png": "[encoded data removed]"
    }
   },
   "cell_type": "markdown",
   "id": "d80ee652-9489-4511-9cc8-aa98aa0cfef2",
   "metadata": {},
   "source": [
    "![image.png](attachment:869557ea-afc8-4fc4-afa9-75459bb99484.png)"
   ]
  },
  {
   "cell_type": "code",
   "execution_count": 24,
   "id": "77a6bf1c-721c-4fcf-8164-60456f6c19f3",
   "metadata": {},
   "outputs": [
    {
     "data": {
      "text/plain": [
       "-1.715228840886049"
      ]
     },
     "execution_count": 24,
     "metadata": {},
     "output_type": "execute_result"
    }
   ],
   "source": [
    "((116047.03 - (117948.11 +122))/117948.11)*100"
   ]
  },
  {
   "cell_type": "code",
   "execution_count": 30,
   "id": "1dfa0685-afd1-4f56-9837-d1be3807a198",
   "metadata": {},
   "outputs": [
    {
     "data": {
      "text/plain": [
       "-1.8135771738945217"
      ]
     },
     "execution_count": 30,
     "metadata": {},
     "output_type": "execute_result"
    }
   ],
   "source": [
    "# # Example values\n",
    "# end_period_value_april = 116047.03 # Assumed end of April period_stocks_value\n",
    "# trans_fee_april = 0  # Assumed transaction fee for April\n",
    "# diff_cash_montly_april = 238  # Assumed difference in cash for April\n",
    "\n",
    "# start_period_value_march = 117948.11  # From your data\n",
    "# net_cash_flow_april = diff_cash_montly_april - trans_fee_april\n",
    "\n",
    "# # Monthly return calculation\n",
    "# monthly_return_april = ((end_period_value_april - start_period_value_march - net_cash_flow_april) / start_period_value_march) * 100\n",
    "# monthly_return_april\n"
   ]
  }
 ],
 "metadata": {
  "kernelspec": {
   "display_name": "Python 3 (ipykernel)",
   "language": "python",
   "name": "python3"
  },
  "language_info": {
   "codemirror_mode": {
    "name": "ipython",
    "version": 3
   },
   "file_extension": ".py",
   "mimetype": "text/x-python",
   "name": "python",
   "nbconvert_exporter": "python",
   "pygments_lexer": "ipython3",
   "version": "3.8.18"
  }
 },
 "nbformat": 4,
 "nbformat_minor": 5
}
