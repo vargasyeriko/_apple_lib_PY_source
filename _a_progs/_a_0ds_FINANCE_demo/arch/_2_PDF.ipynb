{
 "cells": [
  {
   "cell_type": "code",
   "execution_count": 10,
   "id": "ffe5eedb-8996-4007-86ae-b3256bd0d31e",
   "metadata": {},
   "outputs": [],
   "source": [
    "#%run _14_Graphs_and_PDF.py"
   ]
  },
  {
   "cell_type": "code",
   "execution_count": 11,
   "id": "46cf52f9-94b6-4f9b-8e3b-54583436bd29",
   "metadata": {},
   "outputs": [
    {
     "name": "stdout",
     "output_type": "stream",
     "text": [
      "PDF created successfully: output_plots.pdf\n"
     ]
    }
   ],
   "source": [
    "import os\n",
    "from PIL import Image\n",
    "\n",
    "def png_to_pdf(directory, output_pdf):\n",
    "    # Change directory to the specified folder\n",
    "    os.chdir(directory)\n",
    "\n",
    "    # List all PNG files in the directory\n",
    "    png_files = [f for f in os.listdir() if f.endswith('.png')]\n",
    "\n",
    "    # Ensure there are PNG files in the directory\n",
    "    if not png_files:\n",
    "        print(\"No PNG files found in the directory.\")\n",
    "        return\n",
    "\n",
    "    # Open the first image to create the pdf\n",
    "    first_image = Image.open(png_files[0])\n",
    "    first_image = first_image.convert('RGB')  # Convert to RGB\n",
    "\n",
    "    # Create a list of PIL images for additional PNG files\n",
    "    img_list = []\n",
    "    for file_name in png_files[1:]:\n",
    "        img = Image.open(file_name)\n",
    "        img = img.convert('RGB')\n",
    "        img_list.append(img)\n",
    "\n",
    "    # Save the images as a PDF\n",
    "    first_image.save(output_pdf, save_all=True, append_images=img_list)\n",
    "    print(f\"PDF created successfully: {output_pdf}\")\n",
    "\n",
    "# Specify your directory and output PDF file name\n",
    "directory = \"_0_out\"\n",
    "output_pdf = \"output_plots.pdf\"\n",
    "png_to_pdf(directory, output_pdf)\n"
   ]
  },
  {
   "cell_type": "code",
   "execution_count": null,
   "id": "b71b2db1-0823-47b3-925c-8e156bd2aa05",
   "metadata": {},
   "outputs": [],
   "source": []
  }
 ],
 "metadata": {
  "kernelspec": {
   "display_name": "Python 3 (ipykernel)",
   "language": "python",
   "name": "python3"
  },
  "language_info": {
   "codemirror_mode": {
    "name": "ipython",
    "version": 3
   },
   "file_extension": ".py",
   "mimetype": "text/x-python",
   "name": "python",
   "nbconvert_exporter": "python",
   "pygments_lexer": "ipython3",
   "version": "3.8.18"
  }
 },
 "nbformat": 4,
 "nbformat_minor": 5
}
