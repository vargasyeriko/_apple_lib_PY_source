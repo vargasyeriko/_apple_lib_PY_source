{
 "cells": [
  {
   "cell_type": "code",
   "execution_count": 7,
   "id": "b8cc33b3-3ca0-4230-a7e6-b246a562ebd4",
   "metadata": {},
   "outputs": [
    {
     "data": {
      "text/html": [
       "<div>\n",
       "<style scoped>\n",
       "    .dataframe tbody tr th:only-of-type {\n",
       "        vertical-align: middle;\n",
       "    }\n",
       "\n",
       "    .dataframe tbody tr th {\n",
       "        vertical-align: top;\n",
       "    }\n",
       "\n",
       "    .dataframe thead th {\n",
       "        text-align: right;\n",
       "    }\n",
       "</style>\n",
       "<table border=\"1\" class=\"dataframe\">\n",
       "  <thead>\n",
       "    <tr style=\"text-align: right;\">\n",
       "      <th></th>\n",
       "      <th>amount</th>\n",
       "      <th>DateTrans</th>\n",
       "      <th>id_time_buy</th>\n",
       "      <th>trans_type</th>\n",
       "    </tr>\n",
       "  </thead>\n",
       "  <tbody>\n",
       "    <tr>\n",
       "      <th>0</th>\n",
       "      <td>333.054419</td>\n",
       "      <td>2023-10-10</td>\n",
       "      <td>CLDD.AX_2023-10-10_sb_CASH</td>\n",
       "      <td>stock_to_cash</td>\n",
       "    </tr>\n",
       "    <tr>\n",
       "      <th>1</th>\n",
       "      <td>782.973758</td>\n",
       "      <td>2023-10-10</td>\n",
       "      <td>QUAL.AX_2023-10-10_sb_CASH</td>\n",
       "      <td>stock_to_cash</td>\n",
       "    </tr>\n",
       "  </tbody>\n",
       "</table>\n",
       "</div>"
      ],
      "text/plain": [
       "       amount   DateTrans                 id_time_buy     trans_type\n",
       "0  333.054419  2023-10-10  CLDD.AX_2023-10-10_sb_CASH  stock_to_cash\n",
       "1  782.973758  2023-10-10  QUAL.AX_2023-10-10_sb_CASH  stock_to_cash"
      ]
     },
     "execution_count": 7,
     "metadata": {},
     "output_type": "execute_result"
    }
   ],
   "source": [
    "import os\n",
    "import pandas as pd\n",
    "\n",
    "# Define the directory and the default filename\n",
    "directory = '_20_add_cash'\n",
    "default_name = 'cash_bal000000.pkl'\n",
    "\n",
    "# List all pickle files in the directory\n",
    "files = [f for f in os.listdir(directory) if f.endswith('.pkl')]\n",
    "\n",
    "# Check if default_name is in the files\n",
    "if default_name not in files:\n",
    "    now_name = default_name\n",
    "else:\n",
    "    now_name = default_name  # or set to another logic based condition\n",
    "\n",
    "# Load the DataFrame for now_name if it exists\n",
    "if now_name in files:\n",
    "    main_df = pd.read_pickle(f\"{directory}/{now_name}\")\n",
    "else:\n",
    "    main_df = pd.DataFrame()  # Initialize an empty DataFrame if file doesn't exist\n",
    "\n",
    "# Concatenate with other DataFrames if any\n",
    "for file in files:\n",
    "    if file != now_name:\n",
    "        df = pd.read_pickle(f\"{directory}/{file}\")\n",
    "        main_df = pd.concat([main_df, df], ignore_index=True)\n",
    "\n",
    "# Save or handle the concatenated DataFrame as needed\n",
    "main_df # Print to see some of the concatenated data\n"
   ]
  },
  {
   "cell_type": "code",
   "execution_count": 8,
   "id": "744370cb-f83a-455a-8ebe-bcd198554e3f",
   "metadata": {},
   "outputs": [
    {
     "name": "stdout",
     "output_type": "stream",
     "text": [
      "        amount   DateTrans                 id_time_buy     trans_type\n",
      "0   333.054419  2023-10-10  CLDD.AX_2023-10-10_sb_CASH  stock_to_cash\n",
      "1   782.973758  2023-10-10  QUAL.AX_2023-10-10_sb_CASH  stock_to_cash\n",
      "2   333.054419  2023-10-10  CLDD.AX_2023-10-10_sb_CASH  stock_to_cash\n",
      "3  1120.513941  2023-10-10  QUAL.AX_2023-10-10_sb_CASH  stock_to_cash\n"
     ]
    }
   ],
   "source": [
    "#_df_add_2_up_to_date_historicimport os\n",
    "import pandas as pd\n",
    "import os\n",
    "# Define the directory and the default filename\n",
    "directory = '_20_add_cash'\n",
    "default_name = 'cash_bal000000.pkl'\n",
    "\n",
    "# List all pickle files in the directory\n",
    "files = [f for f in os.listdir(directory) if f.endswith('.pkl')]\n",
    "\n",
    "# Initialize an empty DataFrame for concatenation if no files are found\n",
    "main_df = df_cash_bal\n",
    "\n",
    "# Load the DataFrame from 'cash_bal.pkl' if it exists\n",
    "if default_name in files:\n",
    "    df_cash_bal = pd.read_pickle(f\"{directory}/{default_name}\")\n",
    "    main_df = pd.concat([main_df, df_cash_bal], ignore_index=True)\n",
    "\n",
    "# Concatenate with other DataFrames if any\n",
    "for file in files:\n",
    "    if file != default_name:\n",
    "        df = pd.read_pickle(f\"{directory}/{file}\")\n",
    "        main_df = pd.concat([main_df, df], ignore_index=True)\n",
    "\n",
    "# Save or handle the concatenated DataFrame as needed\n",
    "print(main_df.head())  # Print to see some of the concatenated data\n"
   ]
  },
  {
   "cell_type": "code",
   "execution_count": null,
   "id": "52e298e6-1014-41ab-8e72-c00a208ef4b3",
   "metadata": {},
   "outputs": [],
   "source": []
  }
 ],
 "metadata": {
  "kernelspec": {
   "display_name": "Python 3 (ipykernel)",
   "language": "python",
   "name": "python3"
  },
  "language_info": {
   "codemirror_mode": {
    "name": "ipython",
    "version": 3
   },
   "file_extension": ".py",
   "mimetype": "text/x-python",
   "name": "python",
   "nbconvert_exporter": "python",
   "pygments_lexer": "ipython3",
   "version": "3.8.18"
  }
 },
 "nbformat": 4,
 "nbformat_minor": 5
}
