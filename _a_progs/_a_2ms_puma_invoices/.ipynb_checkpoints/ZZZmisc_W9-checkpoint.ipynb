{
 "cells": [
  {
   "cell_type": "code",
   "execution_count": 11,
   "id": "fbf830d5-5dbe-44c0-a461-27a9122a83c3",
   "metadata": {},
   "outputs": [
    {
     "name": "stdout",
     "output_type": "stream",
     "text": [
      "All fields are filled correctly!\n"
     ]
    }
   ],
   "source": [
    "# W-9 Form Fields\n",
    "name = \"Yeriko G Vargas Santamria\"\n",
    "business_name = \"YerikODJ\"\n",
    "tax_classification = \"Individual/Sole Proprietor\"\n",
    "exemptions = \" \"\n",
    "address = \"4475 15th St., Unit 1A\"\n",
    "city = \"Detroit\"\n",
    "state = \"Michigan\"\n",
    "zip_code = \"48208\"\n",
    "social_security_number = \"815 74 9217\"\n",
    "employer_identification_number = \"52-2010575\"\n",
    "\n",
    "# List of all fields\n",
    "fields_to_fill = [\n",
    "    name, business_name, tax_classification, exemptions,\n",
    "    address, city, state, zip_code, social_security_number, employer_identification_number\n",
    "]\n",
    "\n",
    "# Count empty fields\n",
    "empty_fields_count = sum(1 for field in fields_to_fill if not field)\n",
    "\n",
    "# Debugging message\n",
    "if empty_fields_count > 0:\n",
    "    print(f\"You need to fill {empty_fields_count} more field(s).\")\n",
    "else:\n",
    "    print(\"All fields are filled correctly!\")"
   ]
  },
  {
   "cell_type": "code",
   "execution_count": 14,
   "id": "99965c4b-6e48-4964-9d66-0d4a76bd2ba2",
   "metadata": {},
   "outputs": [
    {
     "name": "stdout",
     "output_type": "stream",
     "text": [
      "\n",
      "### W-9 Form Guide with Your Data ###\n",
      "\n",
      "1. **Line 1 (Name):** Yeriko G Vargas Santamria\n",
      "   - Enter your legal name as shown on your Social Security card.\n",
      "\n",
      "2. **Line 2 (Business Name):** YerikODJ\n",
      "   - Enter your business name or disregarded entity name, if applicable. Leave blank if none.\n",
      "\n",
      "3. **Line 3 (Tax Classification):** Individual/Sole Proprietor\n",
      "   - Check the appropriate box for your federal tax classification. Typically, \"Individual/Sole Proprietor or Single-Member LLC\".\n",
      "\n",
      "4. **Line 4 (Exemptions):**  \n",
      "   - Enter exemption codes if applicable. Leave blank for most individuals.\n",
      "\n",
      "5. **Line 5 (Address):** 4475 15th St., Unit 1A\n",
      "   - Enter your street address where you receive mail.\n",
      "\n",
      "6. **Line 6 (City, State, ZIP Code):** Detroit, Michigan 48208\n",
      "   - Enter your city, state abbreviation, and ZIP code.\n",
      "\n",
      "7. **Part I (Social Security Number):** 815 74 9217\n",
      "   - Enter your 9-digit Social Security Number (SSN).\n",
      "\n",
      "8. **Part I (Employer Identification Number):** 52-2010575\n",
      "   - Enter your Employer Identification Number (EIN), if you have one. Leave blank if you use your SSN.\n",
      "\n",
      "9. **Certification Section:**\n",
      "   - Sign and date the form at the bottom to certify that the information you provided is accurate.\n",
      "\n",
      "Make sure to double-check all fields before submitting!\n",
      "\n"
     ]
    }
   ],
   "source": [
    "# Generate the final formatted message\n",
    "message = f\"\"\"\n",
    "### W-9 Form Guide with Your Data ###\n",
    "\n",
    "1. **Line 1 (Name):** {name}\n",
    "   - Enter your legal name as shown on your Social Security card.\n",
    "\n",
    "2. **Line 2 (Business Name):** {business_name if business_name else 'Not Provided'}\n",
    "   - Enter your business name or disregarded entity name, if applicable. Leave blank if none.\n",
    "\n",
    "3. **Line 3 (Tax Classification):** {tax_classification}\n",
    "   - Check the appropriate box for your federal tax classification. Typically, \"Individual/Sole Proprietor or Single-Member LLC\".\n",
    "\n",
    "4. **Line 4 (Exemptions):** {exemptions if exemptions else 'Not Provided'}\n",
    "   - Enter exemption codes if applicable. Leave blank for most individuals.\n",
    "\n",
    "5. **Line 5 (Address):** {address}\n",
    "   - Enter your street address where you receive mail.\n",
    "\n",
    "6. **Line 6 (City, State, ZIP Code):** {city}, {state} {zip_code}\n",
    "   - Enter your city, state abbreviation, and ZIP code.\n",
    "\n",
    "7. **Part I (Social Security Number):** {social_security_number}\n",
    "   - Enter your 9-digit Social Security Number (SSN).\n",
    "\n",
    "8. **Part I (Employer Identification Number):** {employer_identification_number if employer_identification_number else 'Not Provided'}\n",
    "   - Enter your Employer Identification Number (EIN), if you have one. Leave blank if you use your SSN.\n",
    "\n",
    "9. **Certification Section:**\n",
    "   - Sign and date the form at the bottom to certify that the information you provided is accurate.\n",
    "\n",
    "Make sure to double-check all fields before submitting!\n",
    "\"\"\"\n",
    "\n",
    "# Print the final message\n",
    "print(message)"
   ]
  },
  {
   "cell_type": "code",
   "execution_count": null,
   "id": "829b960a-c9ab-41c1-877b-0030637c4765",
   "metadata": {},
   "outputs": [],
   "source": []
  }
 ],
 "metadata": {
  "kernelspec": {
   "display_name": "Python 3 (ipykernel)",
   "language": "python",
   "name": "python3"
  },
  "language_info": {
   "codemirror_mode": {
    "name": "ipython",
    "version": 3
   },
   "file_extension": ".py",
   "mimetype": "text/x-python",
   "name": "python",
   "nbconvert_exporter": "python",
   "pygments_lexer": "ipython3",
   "version": "3.8.18"
  }
 },
 "nbformat": 4,
 "nbformat_minor": 5
}
