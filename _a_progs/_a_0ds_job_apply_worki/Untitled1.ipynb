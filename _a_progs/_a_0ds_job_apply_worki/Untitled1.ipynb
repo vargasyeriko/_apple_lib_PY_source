{
 "cells": [
  {
   "cell_type": "code",
   "execution_count": null,
   "id": "603d8d0f-2fe1-4312-b982-d104938cd922",
   "metadata": {},
   "outputs": [],
   "source": []
  }
 ],
 "metadata": {
  "kernelspec": {
   "display_name": "Python (_0ds_job_apply_worki)",
   "language": "python",
   "name": "_0ds_job_apply_worki"
  },
  "language_info": {
   "codemirror_mode": {
    "name": "ipython",
    "version": 3
   },
   "file_extension": ".py",
   "mimetype": "text/x-python",
   "name": "python",
   "nbconvert_exporter": "python",
   "pygments_lexer": "ipython3",
   "version": "3.12.9"
  }
 },
 "nbformat": 4,
 "nbformat_minor": 5
}
